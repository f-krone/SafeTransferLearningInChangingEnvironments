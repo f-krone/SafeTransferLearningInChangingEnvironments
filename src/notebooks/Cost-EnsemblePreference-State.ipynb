{
 "cells": [
  {
   "cell_type": "code",
   "execution_count": 1,
   "id": "8a8a1105-ce05-4c6e-b0a2-790722f86b00",
   "metadata": {},
   "outputs": [
    {
     "name": "stdout",
     "output_type": "stream",
     "text": [
      "['/home/ws/upecj/SafeTransferLearningInChangingEnvironments/src/notebooks', '/usr/lib/python38.zip', '/usr/lib/python3.8', '/usr/lib/python3.8/lib-dynload', '', '/home/ws/upecj/SafeTransferLearningInChangingEnvironments/venv/lib/python3.8/site-packages', '/home/ws/upecj/SafeTransferLearningInChangingEnvironments/src/custom_envs', '/home/ws/upecj/SafeTransferLearningInChangingEnvironments/venv/lib/python3.8/site-packages/IPython/extensions', '/home/ws/upecj/.ipython', '..']\n"
     ]
    }
   ],
   "source": [
    "import sys\n",
    "sys.path.append(\"..\")\n",
    "print(sys.path)"
   ]
  },
  {
   "cell_type": "code",
   "execution_count": 2,
   "id": "45a1c7a8-7516-49c9-a792-c2043d3f0beb",
   "metadata": {},
   "outputs": [],
   "source": [
    "from wrappers.preference_reward.model_wrapper import ModelWrapper\n",
    "from wrappers.preference_reward.preference_reward import PreferenceReward\n",
    "import gym\n",
    "import custom_robotics\n",
    "import wrappers\n",
    "from custom_policies import custom_feature_extractor\n",
    "\n",
    "from stable_baselines3 import SAC, HerReplayBuffer\n",
    "from stable_baselines3.common.monitor import Monitor\n",
    "from stable_baselines3.common.vec_env import DummyVecEnv, VecVideoRecorder\n",
    "from stable_baselines3.common.noise import OrnsteinUhlenbeckActionNoise\n",
    "from stable_baselines3.common.callbacks import CheckpointCallback, EvalCallback\n",
    "import wandb\n",
    "from wandb.integration.sb3 import WandbCallback\n",
    "import numpy as np"
   ]
  },
  {
   "cell_type": "code",
   "execution_count": 3,
   "id": "0094eeb3-e5b8-43bb-a3ed-a4c26ab2cd58",
   "metadata": {},
   "outputs": [],
   "source": [
    "config = {\n",
    "    \"gamma\": 0.95,\n",
    "    \"learning_rate\": 0.0001,\n",
    "    \"alpha\": 0.3,\n",
    "    \"total_timesteps\": int(2e6),\n",
    "    \"ep_length\": 100,\n",
    "    \"mean\": 0.3,\n",
    "    \"sigma\": 0.2,\n",
    "    \"cost_factor\": 10\n",
    "}\n",
    "name = \"SAC_state_ensemble_cost_10\"\n",
    "base_folder = \"../../output\"\n",
    "project_name = \"fetch-push-cost\""
   ]
  },
  {
   "cell_type": "code",
   "execution_count": 4,
   "id": "295d9af1-8c52-4a37-885b-fe1a7d712102",
   "metadata": {},
   "outputs": [
    {
     "name": "stderr",
     "output_type": "stream",
     "text": [
      "Failed to detect the name of this notebook, you can set it manually with the WANDB_NOTEBOOK_NAME environment variable to enable code saving.\n",
      "\u001b[34m\u001b[1mwandb\u001b[0m: Currently logged in as: \u001b[33mf-krone\u001b[0m (use `wandb login --relogin` to force relogin)\n",
      "\u001b[34m\u001b[1mwandb\u001b[0m: wandb version 0.12.14 is available!  To upgrade, please run:\n",
      "\u001b[34m\u001b[1mwandb\u001b[0m:  $ pip install wandb --upgrade\n"
     ]
    },
    {
     "data": {
      "text/html": [
       "\n",
       "                    Syncing run <strong><a href=\"https://wandb.ai/f-krone/fetch-push-cost/runs/3cf0xl5o\" target=\"_blank\">SAC_state_ensemble_cost_10</a></strong> to <a href=\"https://wandb.ai/f-krone/fetch-push-cost\" target=\"_blank\">Weights & Biases</a> (<a href=\"https://docs.wandb.com/integrations/jupyter.html\" target=\"_blank\">docs</a>).<br/>\n",
       "\n",
       "                "
      ],
      "text/plain": [
       "<IPython.core.display.HTML object>"
      ]
     },
     "metadata": {},
     "output_type": "display_data"
    }
   ],
   "source": [
    "run = wandb.init(\n",
    "    project=project_name,\n",
    "    entity=\"f-krone\",\n",
    "    name=name,\n",
    "    config=config,\n",
    "    #sync_tensorboard=True,  # auto-upload sb3's tensorboard metrics\n",
    "    monitor_gym=True,  # auto-upload the videos of agents playing the game\n",
    "    save_code=True,  # optional\n",
    ")\n",
    "wandb.tensorboard.patch(root_logdir=f'{base_folder}/{project_name}/{name}_{run.id}/runs', pytorch=True)"
   ]
  },
  {
   "cell_type": "code",
   "execution_count": 5,
   "id": "061e547e-d488-4d49-8fc3-f3f66652c785",
   "metadata": {},
   "outputs": [],
   "source": [
    "def load_model(file_name):\n",
    "    def make_ensemble_env():\n",
    "            env = gym.make(\"FetchPushDense-v1\")\n",
    "            env = Monitor(env)  # record stats such as returns\n",
    "            return env\n",
    "    ensemble_env = DummyVecEnv([make_ensemble_env])\n",
    "    return SAC.load(file_name, ensemble_env)"
   ]
  },
  {
   "cell_type": "code",
   "execution_count": 6,
   "id": "4204db1d-a61e-4ae2-bcc1-6aba5dc20c34",
   "metadata": {},
   "outputs": [],
   "source": [
    "model_wrapper = ModelWrapper(list(map(lambda i: load_model(\"../../output/fetch-push-ensemble/SAC_ensemble_\" + str(i)), range(3))), obs_keys=[\"achieved_goal\", \"desired_goal\", \"observation\"], remove_barrier=True)"
   ]
  },
  {
   "cell_type": "code",
   "execution_count": 7,
   "id": "32b99737-96bc-4944-b945-cb238ff34f79",
   "metadata": {},
   "outputs": [],
   "source": [
    "def make_env():\n",
    "    env = gym.make(\"CustomFetchPushCostDense-v0\")\n",
    "    env = wrappers.RemoveRobot(env)\n",
    "    env = wrappers.CostWrapper(env, cost_factor=config[\"cost_factor\"], tensorboard_log=f'{base_folder}/{project_name}/{name}_{run.id}/runs')\n",
    "    env = Monitor(env)  # record stats such as returns\n",
    "    env = PreferenceReward(env, model_wrapper, 4, lambda steps: 1 - steps / config[\"total_timesteps\"], tensorboard_log=f'{base_folder}/{project_name}/{name}_{run.id}/runs')\n",
    "    return env\n",
    "def make_eval_env():\n",
    "    env = gym.make(\"CustomFetchPushCostDense-v0\")\n",
    "    env = wrappers.RemoveRobot(env)\n",
    "    env = wrappers.CostWrapper(env, cost_factor=config[\"cost_factor\"], tensorboard_log=f'{base_folder}/{project_name}/{name}_{run.id}/runs')\n",
    "    env = Monitor(env)  # record stats such as returns\n",
    "    return env\n",
    "    \n",
    "env = DummyVecEnv([make_env])\n",
    "eval_env = DummyVecEnv([make_eval_env])\n",
    "eval_env = VecVideoRecorder(eval_env, f\"{base_folder}/{project_name}/{name}_{run.id}/videos\", record_video_trigger=lambda x: x== 0, video_length=300)"
   ]
  },
  {
   "cell_type": "code",
   "execution_count": 8,
   "id": "91135caf-0fec-4807-afcf-9604b08772df",
   "metadata": {},
   "outputs": [
    {
     "name": "stdout",
     "output_type": "stream",
     "text": [
      "Using cuda device\n"
     ]
    }
   ],
   "source": [
    "model = SAC('MultiInputPolicy', env, \n",
    "            learning_starts=int(1e4), \n",
    "            buffer_size=int(2e6),\n",
    "            gamma=config[\"gamma\"],\n",
    "            learning_rate=config[\"learning_rate\"],\n",
    "            policy_kwargs=dict(\n",
    "                net_arch=[512, 256, 256]\n",
    "            ),\n",
    "            action_noise=OrnsteinUhlenbeckActionNoise(np.zeros(shape=4) + config[\"mean\"], np.zeros(shape=4) + config[\"sigma\"]),\n",
    "            replay_buffer_class=HerReplayBuffer,\n",
    "            replay_buffer_kwargs=dict(\n",
    "                online_sampling=True,\n",
    "                goal_selection_strategy='future',\n",
    "                n_sampled_goal=4\n",
    "            ),\n",
    "            verbose=1, tensorboard_log=f'{base_folder}/{project_name}/{name}_{run.id}/runs')"
   ]
  },
  {
   "cell_type": "code",
   "execution_count": null,
   "id": "7026ae6c-d672-490c-a022-3e1258030b3d",
   "metadata": {
    "collapsed": true,
    "jupyter": {
     "outputs_hidden": true
    },
    "tags": []
   },
   "outputs": [
    {
     "name": "stdout",
     "output_type": "stream",
     "text": [
      "Logging to ../../output/fetch-push-cost/SAC_state_ensemble_cost_10_3cf0xl5o/runs/SAC_1\n"
     ]
    },
    {
     "name": "stderr",
     "output_type": "stream",
     "text": [
      "/home/ws/upecj/SafeTransferLearningInChangingEnvironments/venv/lib/python3.8/site-packages/stable_baselines3/common/callbacks.py:337: UserWarning: Training and eval env are not of the same type<stable_baselines3.common.vec_env.dummy_vec_env.DummyVecEnv object at 0x7f2f485edee0> != <stable_baselines3.common.vec_env.vec_video_recorder.VecVideoRecorder object at 0x7f2f482f0fd0>\n",
      "  warnings.warn(\"Training and eval env are not of the same type\" f\"{self.training_env} != {self.eval_env}\")\n",
      "File ../../output/fetch-push-cost/SAC_state_ensemble_cost_10_3cf0xl5o/runs/events.out.tfevents.1649762201.oko.3801726.0 updated even though the current file is ../../output/fetch-push-cost/SAC_state_ensemble_cost_10_3cf0xl5o/runs/events.out.tfevents.1649762201.oko.3801726.2\n"
     ]
    },
    {
     "name": "stdout",
     "output_type": "stream",
     "text": [
      "---------------------------------\n",
      "| rollout/           |          |\n",
      "|    ep_len_mean     | 100      |\n",
      "|    ep_rew_mean     | -99.6    |\n",
      "|    success_rate    | 0.0      |\n",
      "| time/              |          |\n",
      "|    episodes        | 4        |\n",
      "|    fps             | 254      |\n",
      "|    time_elapsed    | 1        |\n",
      "|    total_timesteps | 400      |\n",
      "---------------------------------\n",
      "---------------------------------\n",
      "| rollout/           |          |\n",
      "|    ep_len_mean     | 100      |\n",
      "|    ep_rew_mean     | -104     |\n",
      "|    success_rate    | 0.0      |\n",
      "| time/              |          |\n",
      "|    episodes        | 8        |\n",
      "|    fps             | 268      |\n",
      "|    time_elapsed    | 2        |\n",
      "|    total_timesteps | 800      |\n",
      "---------------------------------\n",
      "---------------------------------\n",
      "| rollout/           |          |\n",
      "|    ep_len_mean     | 100      |\n",
      "|    ep_rew_mean     | -94.5    |\n",
      "|    success_rate    | 0.0      |\n",
      "| time/              |          |\n",
      "|    episodes        | 12       |\n",
      "|    fps             | 273      |\n",
      "|    time_elapsed    | 4        |\n",
      "|    total_timesteps | 1200     |\n",
      "---------------------------------\n",
      "---------------------------------\n",
      "| rollout/           |          |\n",
      "|    ep_len_mean     | 100      |\n",
      "|    ep_rew_mean     | -88.9    |\n",
      "|    success_rate    | 0.0      |\n",
      "| time/              |          |\n",
      "|    episodes        | 16       |\n",
      "|    fps             | 276      |\n",
      "|    time_elapsed    | 5        |\n",
      "|    total_timesteps | 1600     |\n",
      "---------------------------------\n",
      "---------------------------------\n",
      "| rollout/           |          |\n",
      "|    ep_len_mean     | 100      |\n",
      "|    ep_rew_mean     | -89.6    |\n",
      "|    success_rate    | 0.0      |\n",
      "| time/              |          |\n",
      "|    episodes        | 20       |\n",
      "|    fps             | 279      |\n",
      "|    time_elapsed    | 7        |\n",
      "|    total_timesteps | 2000     |\n",
      "---------------------------------\n",
      "---------------------------------\n",
      "| rollout/           |          |\n",
      "|    ep_len_mean     | 100      |\n",
      "|    ep_rew_mean     | -83.8    |\n",
      "|    success_rate    | 0.0      |\n",
      "| time/              |          |\n",
      "|    episodes        | 24       |\n",
      "|    fps             | 280      |\n",
      "|    time_elapsed    | 8        |\n",
      "|    total_timesteps | 2400     |\n",
      "---------------------------------\n",
      "---------------------------------\n",
      "| rollout/           |          |\n",
      "|    ep_len_mean     | 100      |\n",
      "|    ep_rew_mean     | -79.6    |\n",
      "|    success_rate    | 0.0      |\n",
      "| time/              |          |\n",
      "|    episodes        | 28       |\n",
      "|    fps             | 282      |\n",
      "|    time_elapsed    | 9        |\n",
      "|    total_timesteps | 2800     |\n",
      "---------------------------------\n",
      "---------------------------------\n",
      "| rollout/           |          |\n",
      "|    ep_len_mean     | 100      |\n",
      "|    ep_rew_mean     | -80.2    |\n",
      "|    success_rate    | 0.0      |\n",
      "| time/              |          |\n",
      "|    episodes        | 32       |\n",
      "|    fps             | 283      |\n",
      "|    time_elapsed    | 11       |\n",
      "|    total_timesteps | 3200     |\n",
      "---------------------------------\n",
      "---------------------------------\n",
      "| rollout/           |          |\n",
      "|    ep_len_mean     | 100      |\n",
      "|    ep_rew_mean     | -79.5    |\n",
      "|    success_rate    | 0.0      |\n",
      "| time/              |          |\n",
      "|    episodes        | 36       |\n",
      "|    fps             | 284      |\n",
      "|    time_elapsed    | 12       |\n",
      "|    total_timesteps | 3600     |\n",
      "---------------------------------\n",
      "---------------------------------\n",
      "| rollout/           |          |\n",
      "|    ep_len_mean     | 100      |\n",
      "|    ep_rew_mean     | -81.5    |\n",
      "|    success_rate    | 0.0      |\n",
      "| time/              |          |\n",
      "|    episodes        | 40       |\n",
      "|    fps             | 285      |\n",
      "|    time_elapsed    | 14       |\n",
      "|    total_timesteps | 4000     |\n",
      "---------------------------------\n",
      "---------------------------------\n",
      "| rollout/           |          |\n",
      "|    ep_len_mean     | 100      |\n",
      "|    ep_rew_mean     | -80.1    |\n",
      "|    success_rate    | 0.0      |\n",
      "| time/              |          |\n",
      "|    episodes        | 44       |\n",
      "|    fps             | 285      |\n",
      "|    time_elapsed    | 15       |\n",
      "|    total_timesteps | 4400     |\n",
      "---------------------------------\n",
      "---------------------------------\n",
      "| rollout/           |          |\n",
      "|    ep_len_mean     | 100      |\n",
      "|    ep_rew_mean     | -80.2    |\n",
      "|    success_rate    | 0.0      |\n",
      "| time/              |          |\n",
      "|    episodes        | 48       |\n",
      "|    fps             | 286      |\n",
      "|    time_elapsed    | 16       |\n",
      "|    total_timesteps | 4800     |\n",
      "---------------------------------\n",
      "Found 3 GPUs for rendering. Using device 0.\n",
      "Saving video to /home/ws/upecj/SafeTransferLearningInChangingEnvironments/output/fetch-push-cost/SAC_state_ensemble_cost_10_3cf0xl5o/videos/rl-video-step-0-to-step-300.mp4\n",
      "Eval num_timesteps=5000, episode_reward=-92.84 +/- 73.77\n",
      "Episode length: 100.00 +/- 0.00\n",
      "Success rate: 0.00%\n",
      "---------------------------------\n",
      "| eval/              |          |\n",
      "|    mean_ep_length  | 100      |\n",
      "|    mean_reward     | -92.8    |\n",
      "|    success_rate    | 0.0      |\n",
      "| time/              |          |\n",
      "|    total_timesteps | 5000     |\n",
      "---------------------------------\n",
      "New best mean reward!\n",
      "---------------------------------\n",
      "| rollout/           |          |\n",
      "|    ep_len_mean     | 100      |\n",
      "|    ep_rew_mean     | -82.6    |\n",
      "|    success_rate    | 0.0      |\n",
      "| time/              |          |\n",
      "|    episodes        | 52       |\n",
      "|    fps             | 238      |\n",
      "|    time_elapsed    | 21       |\n",
      "|    total_timesteps | 5200     |\n",
      "---------------------------------\n",
      "---------------------------------\n",
      "| rollout/           |          |\n",
      "|    ep_len_mean     | 100      |\n",
      "|    ep_rew_mean     | -82.6    |\n",
      "|    success_rate    | 0.0      |\n",
      "| time/              |          |\n",
      "|    episodes        | 56       |\n",
      "|    fps             | 241      |\n",
      "|    time_elapsed    | 23       |\n",
      "|    total_timesteps | 5600     |\n",
      "---------------------------------\n",
      "---------------------------------\n",
      "| rollout/           |          |\n",
      "|    ep_len_mean     | 100      |\n",
      "|    ep_rew_mean     | -88.3    |\n",
      "|    success_rate    | 0.0      |\n",
      "| time/              |          |\n",
      "|    episodes        | 60       |\n",
      "|    fps             | 243      |\n",
      "|    time_elapsed    | 24       |\n",
      "|    total_timesteps | 6000     |\n",
      "---------------------------------\n",
      "---------------------------------\n",
      "| rollout/           |          |\n",
      "|    ep_len_mean     | 100      |\n",
      "|    ep_rew_mean     | -93.4    |\n",
      "|    success_rate    | 0.0      |\n",
      "| time/              |          |\n",
      "|    episodes        | 64       |\n",
      "|    fps             | 245      |\n",
      "|    time_elapsed    | 26       |\n",
      "|    total_timesteps | 6400     |\n",
      "---------------------------------\n",
      "---------------------------------\n",
      "| rollout/           |          |\n",
      "|    ep_len_mean     | 100      |\n",
      "|    ep_rew_mean     | -91.5    |\n",
      "|    success_rate    | 0.0      |\n",
      "| time/              |          |\n",
      "|    episodes        | 68       |\n",
      "|    fps             | 247      |\n",
      "|    time_elapsed    | 27       |\n",
      "|    total_timesteps | 6800     |\n",
      "---------------------------------\n",
      "---------------------------------\n",
      "| rollout/           |          |\n",
      "|    ep_len_mean     | 100      |\n",
      "|    ep_rew_mean     | -95      |\n",
      "|    success_rate    | 0.0      |\n",
      "| time/              |          |\n",
      "|    episodes        | 72       |\n",
      "|    fps             | 249      |\n",
      "|    time_elapsed    | 28       |\n",
      "|    total_timesteps | 7200     |\n",
      "---------------------------------\n",
      "---------------------------------\n",
      "| rollout/           |          |\n",
      "|    ep_len_mean     | 100      |\n",
      "|    ep_rew_mean     | -92.7    |\n",
      "|    success_rate    | 0.0      |\n",
      "| time/              |          |\n",
      "|    episodes        | 76       |\n",
      "|    fps             | 251      |\n",
      "|    time_elapsed    | 30       |\n",
      "|    total_timesteps | 7600     |\n",
      "---------------------------------\n",
      "---------------------------------\n",
      "| rollout/           |          |\n",
      "|    ep_len_mean     | 100      |\n",
      "|    ep_rew_mean     | -91.1    |\n",
      "|    success_rate    | 0.0      |\n",
      "| time/              |          |\n",
      "|    episodes        | 80       |\n",
      "|    fps             | 253      |\n",
      "|    time_elapsed    | 31       |\n",
      "|    total_timesteps | 8000     |\n",
      "---------------------------------\n",
      "---------------------------------\n",
      "| rollout/           |          |\n",
      "|    ep_len_mean     | 100      |\n",
      "|    ep_rew_mean     | -88.6    |\n",
      "|    success_rate    | 0.0      |\n",
      "| time/              |          |\n",
      "|    episodes        | 84       |\n",
      "|    fps             | 254      |\n",
      "|    time_elapsed    | 32       |\n",
      "|    total_timesteps | 8400     |\n",
      "---------------------------------\n",
      "---------------------------------\n",
      "| rollout/           |          |\n",
      "|    ep_len_mean     | 100      |\n",
      "|    ep_rew_mean     | -87.2    |\n",
      "|    success_rate    | 0.0      |\n",
      "| time/              |          |\n",
      "|    episodes        | 88       |\n",
      "|    fps             | 256      |\n",
      "|    time_elapsed    | 34       |\n",
      "|    total_timesteps | 8800     |\n",
      "---------------------------------\n",
      "---------------------------------\n",
      "| rollout/           |          |\n",
      "|    ep_len_mean     | 100      |\n",
      "|    ep_rew_mean     | -85.5    |\n",
      "|    success_rate    | 0.0      |\n",
      "| time/              |          |\n",
      "|    episodes        | 92       |\n",
      "|    fps             | 257      |\n",
      "|    time_elapsed    | 35       |\n",
      "|    total_timesteps | 9200     |\n",
      "---------------------------------\n",
      "---------------------------------\n",
      "| rollout/           |          |\n",
      "|    ep_len_mean     | 100      |\n",
      "|    ep_rew_mean     | -84.7    |\n",
      "|    success_rate    | 0.0      |\n",
      "| time/              |          |\n",
      "|    episodes        | 96       |\n",
      "|    fps             | 259      |\n",
      "|    time_elapsed    | 36       |\n",
      "|    total_timesteps | 9600     |\n",
      "---------------------------------\n",
      "Saving video to /home/ws/upecj/SafeTransferLearningInChangingEnvironments/output/fetch-push-cost/SAC_state_ensemble_cost_10_3cf0xl5o/videos/rl-video-step-500-to-step-800.mp4\n",
      "Eval num_timesteps=10000, episode_reward=-117.63 +/- 109.01\n",
      "Episode length: 100.00 +/- 0.00\n",
      "Success rate: 0.00%\n",
      "---------------------------------\n",
      "| eval/              |          |\n",
      "|    mean_ep_length  | 100      |\n",
      "|    mean_reward     | -118     |\n",
      "|    success_rate    | 0.0      |\n",
      "| time/              |          |\n",
      "|    total_timesteps | 10000    |\n",
      "---------------------------------\n",
      "---------------------------------\n",
      "| rollout/           |          |\n",
      "|    ep_len_mean     | 100      |\n",
      "|    ep_rew_mean     | -86.2    |\n",
      "|    success_rate    | 0.0      |\n",
      "| time/              |          |\n",
      "|    episodes        | 100      |\n",
      "|    fps             | 239      |\n",
      "|    time_elapsed    | 41       |\n",
      "|    total_timesteps | 10000    |\n",
      "---------------------------------\n",
      "---------------------------------\n",
      "| rollout/           |          |\n",
      "|    ep_len_mean     | 100      |\n",
      "|    ep_rew_mean     | -84.1    |\n",
      "|    success_rate    | 0.0      |\n",
      "| time/              |          |\n",
      "|    episodes        | 104      |\n",
      "|    fps             | 223      |\n",
      "|    time_elapsed    | 46       |\n",
      "|    total_timesteps | 10400    |\n",
      "| train/             |          |\n",
      "|    actor_loss      | -7.85    |\n",
      "|    critic_loss     | 0.0778   |\n",
      "|    ent_coef        | 0.961    |\n",
      "|    ent_coef_loss   | -0.268   |\n",
      "|    learning_rate   | 0.0001   |\n",
      "|    n_updates       | 399      |\n",
      "---------------------------------\n"
     ]
    }
   ],
   "source": [
    "model.learn(\n",
    "        total_timesteps=config[\"total_timesteps\"],\n",
    "        callback=[\n",
    "            WandbCallback(\n",
    "                gradient_save_freq=100,\n",
    "                model_save_path=f\"{base_folder}/{project_name}/{name}_{run.id}/models\",\n",
    "                verbose=2), \n",
    "            CheckpointCallback(\n",
    "                save_freq=25000, \n",
    "                save_path=f\"{base_folder}/{project_name}/{name}_{run.id}/checkpoints\",\n",
    "                name_prefix='rl_model'),\n",
    "            EvalCallback(\n",
    "                eval_env, \n",
    "                best_model_save_path=f\"{base_folder}/{project_name}/{name}_{run.id}/best_model\",\n",
    "                log_path=f\"{base_folder}/{project_name}/{name}_{run.id}/best_model\", \n",
    "                eval_freq=5000,\n",
    "                deterministic=True,\n",
    "                render=False)\n",
    "        ],\n",
    "    )\n",
    "model.save(f\"{base_folder}/{project_name}/{name}_{run.id}\")"
   ]
  },
  {
   "cell_type": "code",
   "execution_count": 10,
   "id": "798c637d-8af8-4ba7-b227-5ae646d2bef2",
   "metadata": {
    "tags": []
   },
   "outputs": [
    {
     "data": {
      "text/html": [
       "<br/>Waiting for W&B process to finish, PID 3801761... <strong style=\"color:green\">(success).</strong>"
      ],
      "text/plain": [
       "<IPython.core.display.HTML object>"
      ]
     },
     "metadata": {},
     "output_type": "display_data"
    },
    {
     "data": {
      "application/vnd.jupyter.widget-view+json": {
       "model_id": "",
       "version_major": 2,
       "version_minor": 0
      },
      "text/plain": [
       "VBox(children=(Label(value=' 238.28MB of 238.28MB uploaded (0.00MB deduped)\\r'), FloatProgress(value=1.0, max=…"
      ]
     },
     "metadata": {},
     "output_type": "display_data"
    },
    {
     "data": {
      "text/html": [
       "<style>\n",
       "    table.wandb td:nth-child(1) { padding: 0 10px; text-align: right }\n",
       "    .wandb-row { display: flex; flex-direction: row; flex-wrap: wrap; width: 100% }\n",
       "    .wandb-col { display: flex; flex-direction: column; flex-basis: 100%; flex: 1; padding: 10px; }\n",
       "    </style>\n",
       "<div class=\"wandb-row\"><div class=\"wandb-col\">\n",
       "<h3>Run history:</h3><br/><table class=\"wandb\"><tr><td>SAC_1/eval/mean_ep_length</td><td>▁▁▁▁▁▁▁▁▁▁▁▁▁▁▁▁▁▁▁▁▁▁▁▁▁▁▁▁▁▁▁▁▁▁▁▁▁▁▁▁</td></tr><tr><td>SAC_1/eval/mean_reward</td><td>▇▄▁▇▇▆▇▆▇▇▇▇▆▁▇█▇▇▁█▇▇▇▇▆▆▇▇▇▇▆▇▇▆▇▅▇▇▇▇</td></tr><tr><td>SAC_1/eval/success_rate</td><td>▁▁▁▁▁▁▁▁▁▁▁▁▁█▁▁▁▁▁█▁▁▁▁▁▁▁▁▁▁▁▁▁▁▁▁▁▁▁▁</td></tr><tr><td>SAC_1/global_step</td><td>▁▁▁▂▂▂▂▂▂▃▃▃▃▃▃▄▄▄▄▄▅▅▅▅▅▅▆▆▆▆▆▇▇▇▇▇▇███</td></tr><tr><td>SAC_1/rollout/ep_len_mean</td><td>▁▁▁▁▁▁▁▁▁▁▁▁▁▁▁▁▁▁▁▁▁▁▁▁▁▁▁▁▁▁▁▁▁▁▁▁▁▁▁▁</td></tr><tr><td>SAC_1/rollout/ep_rew_mean</td><td>▂▅▃▁▄▆▆▇▆▇▇▇█▇▇██▇▇▇▇▇▇▇▇▇█▇▇███▇▇█▇██▇█</td></tr><tr><td>SAC_1/rollout/success_rate</td><td>▁▁▃▆▁▆▁▃▁▃▃▁▁▁▁▁▁▃▃▁▃▁▃▆▁▁█▁▆▁▁▆▆▃▃▃▁▁▁▁</td></tr><tr><td>SAC_1/time/fps</td><td>█▅▃▃▂▂▂▂▂▂▂▂▂▂▁▁▁▁▁▁▁▁▁▁▁▁▁▁▁▁▁▁▁▁▁▁▁▁▁▁</td></tr><tr><td>SAC_1/train/actor_loss</td><td>▁█▇█████████████████████████████████████</td></tr><tr><td>SAC_1/train/critic_loss</td><td>▁▁▁▁▁▂▁▁▁▃▂▁▁▂▃▁▁▃▁▄▁▃▁▂▃▂▁▂▁▁▄▂▄▁▄█▂▁▆▂</td></tr><tr><td>SAC_1/train/ent_coef</td><td>█▁▁▁▁▁▁▁▁▁▁▁▁▁▁▁▁▁▁▁▁▁▁▁▁▁▁▁▁▁▁▁▁▁▁▁▁▁▁▁</td></tr><tr><td>SAC_1/train/ent_coef_loss</td><td>▂▁▇▆▆▆▇▇▆▇▇▆▇▇█▇▇█▇██▆▆▆▆▇▆▇▇▆█▇▇▆▇▇▇▆▇▇</td></tr><tr><td>SAC_1/train/learning_rate</td><td>▁▁▁▁▁▁▁▁▁▁▁▁▁▁▁▁▁▁▁▁▁▁▁▁▁▁▁▁▁▁▁▁▁▁▁▁▁▁▁▁</td></tr><tr><td>cost/cost</td><td>▁▁▁▁▁▁▁▁▁▁▁▁▁▁▁▁▁▁▁▁▁▁▁▁▁█▁▁▁▁▁▁▁▆▁▁▁▁▁▁</td></tr><tr><td>cost/reward</td><td>▅▆▆▇▆▆▆▇▆▆▅▇▇▅▇▆▇▆▆▅▅▆▇▆▅█▇▅▁▆▅▆▆▇▆▇▆▆▆▆</td></tr><tr><td>global_step</td><td>▁▁▁▂▂▂▂▂▂▃▃▃▃▁▄▄▄▄▄▁▅▅▅▅▅▁▆▆▆▆▆▇▁▇▇▇▇███</td></tr></table><br/></div><div class=\"wandb-col\">\n",
       "<h3>Run summary:</h3><br/><table class=\"wandb\"><tr><td>SAC_1/eval/mean_ep_length</td><td>100.0</td></tr><tr><td>SAC_1/eval/mean_reward</td><td>-32.00742</td></tr><tr><td>SAC_1/eval/success_rate</td><td>0.0</td></tr><tr><td>SAC_1/global_step</td><td>2000000</td></tr><tr><td>SAC_1/rollout/ep_len_mean</td><td>100.0</td></tr><tr><td>SAC_1/rollout/ep_rew_mean</td><td>-37.24435</td></tr><tr><td>SAC_1/rollout/success_rate</td><td>0.0</td></tr><tr><td>SAC_1/time/fps</td><td>74.0</td></tr><tr><td>SAC_1/train/actor_loss</td><td>1.06674</td></tr><tr><td>SAC_1/train/critic_loss</td><td>0.01375</td></tr><tr><td>SAC_1/train/ent_coef</td><td>0.00064</td></tr><tr><td>SAC_1/train/ent_coef_loss</td><td>2.59467</td></tr><tr><td>SAC_1/train/learning_rate</td><td>0.0001</td></tr><tr><td>cost/cost</td><td>0.0</td></tr><tr><td>cost/reward</td><td>-39.90393</td></tr><tr><td>global_step</td><td>2000000</td></tr></table>\n",
       "</div></div>\n",
       "Synced 6 W&B file(s), 400 media file(s), 0 artifact file(s) and 6 other file(s)\n",
       "<br/>Synced <strong style=\"color:#cdcd00\">SAC_state_ensemble_cost_10</strong>: <a href=\"https://wandb.ai/f-krone/fetch-push-cost/runs/3cf0xl5o\" target=\"_blank\">https://wandb.ai/f-krone/fetch-push-cost/runs/3cf0xl5o</a><br/>\n",
       "Find logs at: <code>./wandb/run-20220412_131634-3cf0xl5o/logs</code><br/>\n"
      ],
      "text/plain": [
       "<IPython.core.display.HTML object>"
      ]
     },
     "metadata": {},
     "output_type": "display_data"
    }
   ],
   "source": [
    "run.finish()"
   ]
  },
  {
   "cell_type": "code",
   "execution_count": 12,
   "id": "311806bf-85c9-4e3c-9d5d-3acdbbf0f1fa",
   "metadata": {},
   "outputs": [],
   "source": [
    "model.save(f\"{base_folder}/{name}_{run.id}\")"
   ]
  },
  {
   "cell_type": "code",
   "execution_count": 16,
   "id": "4c4c64ed-c8e0-47f3-a74a-af04ecbc9b4e",
   "metadata": {},
   "outputs": [
    {
     "data": {
      "image/png": "[encoded data removed]",
      "text/plain": [
       "<Figure size 432x288 with 1 Axes>"
      ]
     },
     "metadata": {
      "needs_background": "light"
     },
     "output_type": "display_data"
    },
    {
     "data": {
      "image/png": "[encoded data removed]",
      "text/plain": [
       "<Figure size 432x288 with 1 Axes>"
      ]
     },
     "metadata": {
      "needs_background": "light"
     },
     "output_type": "display_data"
    },
    {
     "data": {
      "image/png": "[encoded data removed]",
      "text/plain": [
       "<Figure size 432x288 with 1 Axes>"
      ]
     },
     "metadata": {
      "needs_background": "light"
     },
     "output_type": "display_data"
    },
    {
     "data": {
      "image/png": "[encoded data removed]",
      "text/plain": [
       "<Figure size 432x288 with 1 Axes>"
      ]
     },
     "metadata": {
      "needs_background": "light"
     },
     "output_type": "display_data"
    }
   ],
   "source": [
    "import matplotlib.pyplot as plt\n",
    "for i, frame in enumerate(np.moveaxis(env._obs_from_buf()['frame_stack_3d'][0], 0, 1)):\n",
    "    plt.figure(i)\n",
    "    plt.clf()\n",
    "    plt.imshow(np.moveaxis(frame, 0, -1))"
   ]
  },
  {
   "cell_type": "code",
   "execution_count": 26,
   "id": "af9e9905-39fd-4adf-a5ff-8df6b2aa19b1",
   "metadata": {},
   "outputs": [
    {
     "data": {
      "image/png": "[encoded data removed]",
      "text/plain": [
       "<Figure size 432x288 with 1 Axes>"
      ]
     },
     "metadata": {
      "needs_background": "light"
     },
     "output_type": "display_data"
    },
    {
     "data": {
      "image/png": "[encoded data removed]",
      "text/plain": [
       "<Figure size 432x288 with 1 Axes>"
      ]
     },
     "metadata": {
      "needs_background": "light"
     },
     "output_type": "display_data"
    },
    {
     "data": {
      "image/png": "[encoded data removed]",
      "text/plain": [
       "<Figure size 432x288 with 1 Axes>"
      ]
     },
     "metadata": {
      "needs_background": "light"
     },
     "output_type": "display_data"
    },
    {
     "data": {
      "image/png": "[encoded data removed]",
      "text/plain": [
       "<Figure size 432x288 with 1 Axes>"
      ]
     },
     "metadata": {
      "needs_background": "light"
     },
     "output_type": "display_data"
    }
   ],
   "source": [
    "import matplotlib.pyplot as plt\n",
    "for i, frame in enumerate(env._obs_from_buf()['frame_stack_2d'][0]):\n",
    "    plt.figure(i)\n",
    "    plt.clf()\n",
    "    plt.imshow(frame)"
   ]
  },
  {
   "cell_type": "code",
   "execution_count": null,
   "id": "a07400c6-89a6-45e3-ba69-49b5abab3992",
   "metadata": {},
   "outputs": [],
   "source": []
  }
 ],
 "metadata": {
  "kernelspec": {
   "display_name": "Python 3 (ipykernel)",
   "language": "python",
   "name": "python3"
  },
  "language_info": {
   "codemirror_mode": {
    "name": "ipython",
    "version": 3
   },
   "file_extension": ".py",
   "mimetype": "text/x-python",
   "name": "python",
   "nbconvert_exporter": "python",
   "pygments_lexer": "ipython3",
   "version": "3.8.10"
  }
 },
 "nbformat": 4,
 "nbformat_minor": 5
}
