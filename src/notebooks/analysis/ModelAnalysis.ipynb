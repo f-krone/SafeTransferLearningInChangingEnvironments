{
 "cells": [
  {
   "cell_type": "code",
   "execution_count": 1,
   "id": "3fed8d40-7499-448f-9032-f04a553aec65",
   "metadata": {},
   "outputs": [],
   "source": [
    "import sys\n",
    "sys.path.append(\"../..\")\n",
    "sys.path.append(\"../../sac_ae\")"
   ]
  },
  {
   "cell_type": "code",
   "execution_count": 2,
   "id": "4f1a07c1-e1fd-4583-9555-8758b3f12b20",
   "metadata": {},
   "outputs": [],
   "source": [
    "import torch\n",
    "import numpy as np\n",
    "from IPython import display\n",
    "from ipywidgets import Output, GridspecLayout\n",
    "import seaborn as sns\n",
    "import matplotlib.pyplot as plt\n",
    "sns.set_theme()"
   ]
  },
  {
   "cell_type": "code",
   "execution_count": 3,
   "id": "947491b9-ef6a-47da-b3ad-d5165dbf5cc3",
   "metadata": {},
   "outputs": [],
   "source": [
    "from sac_ae.env import make_envs\n",
    "from sac_ae.model import make_model\n",
    "from sac_ae.agent import make_agent\n",
    "from utils.misc import eval_mode, VideoRecorder\n",
    "from utils.argument import Arguments"
   ]
  },
  {
   "cell_type": "code",
   "execution_count": 4,
   "id": "02098fd7-5fab-4a5e-a3e4-fc3537979d6d",
   "metadata": {},
   "outputs": [],
   "source": [
    "def load_agent_and_args(path, model_path=None, device=torch.device('cpu')):\n",
    "    args = Arguments(path + 'args.json')\n",
    "    if model_path != None:\n",
    "        weights = torch.load(model_path, map_location=device)\n",
    "    else:\n",
    "        weights = torch.load(path + 'best_model.pt', map_location=device)\n",
    "\n",
    "    if args.agent == 'sac_state':\n",
    "        agent_obs_shape = weights['actor.encoder.projection.projection.0.weight'].shape[1:]\n",
    "        args.agent_image_size = agent_obs_shape[0]\n",
    "    else:\n",
    "        agent_obs_shape = (3*args.frame_stack, args.agent_image_size, args.agent_image_size)\n",
    "    action_shape = np.array([4])\n",
    "\n",
    "    model = make_model(agent_obs_shape, action_shape, args, device)\n",
    "    agent = make_agent(model, device, action_shape, args)\n",
    "    agent.load_model_from_dict(weights)\n",
    "    return agent, args"
   ]
  },
  {
   "cell_type": "code",
   "execution_count": 5,
   "id": "69409383-f02b-4403-83e5-5956cc7e8ce6",
   "metadata": {},
   "outputs": [],
   "source": [
    "def calc_success_rate(agent, args, seed, num_episodes=100):\n",
    "    env = make_envs(args, is_eval=True, use_state=args.agent == 'sac_state')\n",
    "    env.seed(seed)\n",
    "    \n",
    "    num_successes, reward_sum, cost_sum = 0, 0, 0\n",
    "    \n",
    "    for i in range(num_episodes): \n",
    "        obs = env.reset()\n",
    "\n",
    "        episode_reward, episode_cost = 0, 0\n",
    "        done = False\n",
    "\n",
    "        while not done:\n",
    "                with eval_mode(agent):\n",
    "                    #action = agent.select_action(obs)\n",
    "                    action = agent.sample_action(obs)\n",
    "\n",
    "                next_obs, reward, done, info = env.step(action)\n",
    "                episode_reward += reward\n",
    "                if args.cost != 'no_cost':\n",
    "                    episode_cost += info['cost']\n",
    "\n",
    "                obs = next_obs\n",
    "        reward_sum += episode_reward\n",
    "        cost_sum += episode_cost\n",
    "        success = False\n",
    "        if info.get('is_success'):\n",
    "            num_successes += 1\n",
    "            success = True\n",
    "        #print(f'Episode: {i+1}, Success: {success}, Reward: {np.round(episode_reward, decimals=2)}, Cost: {np.round(episode_cost, decimals=2)}')\n",
    "    return num_successes / num_episodes, reward_sum / num_episodes, cost_sum / num_episodes"
   ]
  },
  {
   "cell_type": "code",
   "execution_count": 6,
   "id": "0d465263-0817-4316-bd86-df263e07c4f0",
   "metadata": {
    "tags": []
   },
   "outputs": [],
   "source": [
    "def eval_model(seed, episodes, model_id, model_name=None):\n",
    "    path = f'../../../output/fetch-push-cost-ensemble/SAC_ensemble_{model_id}/'\n",
    "    model_path = path + f'model/{model_name}.pt' if model_name != None else None\n",
    "    agent, args = load_agent_and_args(path, model_path)\n",
    "    success_rate, mean_reward, mean_cost = calc_success_rate(agent, args, seed, episodes)\n",
    "    print(f'Model: {model_name}, Success rate: {np.round(success_rate, 2)}, Mean reward: {np.round(mean_reward, 2)}, Mean cost: {np.round(mean_cost, 2)}')"
   ]
  },
  {
   "cell_type": "code",
   "execution_count": 28,
   "id": "9ff82bac-de77-43b8-9744-b742ba4322de",
   "metadata": {},
   "outputs": [
    {
     "name": "stdout",
     "output_type": "stream",
     "text": [
      "Seed: 1361\n",
      "Success rate: 0.88, Mean reward: -10.04, Mean cost: 0.87\n",
      "Success rate: 0.86, Mean reward: -11.14, Mean cost: 0.83\n",
      "Success rate: 0.81, Mean reward: -11.22, Mean cost: 1.33\n"
     ]
    }
   ],
   "source": [
    "seed = np.random.randint(10000)\n",
    "print(f'Seed: {seed}')\n",
    "for model_id in range(3):\n",
    "    path = f'../../../output/fetch-push-cost-ensemble/SAC_ensemble_{model_id}/'\n",
    "    agent, args = load_agent_and_args(path)#, path + f'model/{model_name}.pt')\n",
    "    success_rate, mean_reward, mean_cost = calc_success_rate(agent, args, seed, 1000)\n",
    "    print(f'Success rate: {np.round(success_rate, 2)}, Mean reward: {np.round(mean_reward, 2)}, Mean cost: {np.round(mean_cost, 2)}')"
   ]
  },
  {
   "cell_type": "code",
   "execution_count": 30,
   "id": "f4f14b4c-75ae-4a3f-ae5c-acc2487b923a",
   "metadata": {
    "tags": []
   },
   "outputs": [
    {
     "name": "stdout",
     "output_type": "stream",
     "text": [
      "Model: 3000000, Success rate: 0.8, Mean reward: -13.24, Mean cost: 2.57\n",
      "Model: 3025000, Success rate: 0.81, Mean reward: -12.14, Mean cost: 1.68\n",
      "Model: 3050000, Success rate: 0.75, Mean reward: -13.04, Mean cost: 2.31\n",
      "Model: 3075000, Success rate: 0.8, Mean reward: -12.85, Mean cost: 1.62\n",
      "Model: 3100000, Success rate: 0.8, Mean reward: -10.97, Mean cost: 1.0\n",
      "Model: 3125000, Success rate: 0.81, Mean reward: -11.53, Mean cost: 1.13\n",
      "Model: 3150000, Success rate: 0.75, Mean reward: -12.99, Mean cost: 2.34\n",
      "Model: 3175000, Success rate: 0.81, Mean reward: -12.37, Mean cost: 1.77\n",
      "Model: 3200000, Success rate: 0.85, Mean reward: -11.6, Mean cost: 1.12\n",
      "Model: 3225000, Success rate: 0.72, Mean reward: -12.14, Mean cost: 0.82\n",
      "Model: 3250000, Success rate: 0.87, Mean reward: -11.05, Mean cost: 1.64\n",
      "Model: 3275000, Success rate: 0.85, Mean reward: -12.25, Mean cost: 2.37\n",
      "Model: 3300000, Success rate: 0.84, Mean reward: -12.03, Mean cost: 1.03\n",
      "Model: 3325000, Success rate: 0.89, Mean reward: -10.93, Mean cost: 1.55\n",
      "Model: 3350000, Success rate: 0.79, Mean reward: -13.85, Mean cost: 1.85\n",
      "Model: 3375000, Success rate: 0.79, Mean reward: -12.98, Mean cost: 2.56\n",
      "Model: 3400000, Success rate: 0.79, Mean reward: -11.0, Mean cost: 1.48\n",
      "Model: 3425000, Success rate: 0.82, Mean reward: -12.68, Mean cost: 1.97\n",
      "Model: 3450000, Success rate: 0.89, Mean reward: -10.71, Mean cost: 0.96\n",
      "Model: 3475000, Success rate: 0.74, Mean reward: -12.4, Mean cost: 1.01\n",
      "Model: 3500000, Success rate: 0.86, Mean reward: -10.91, Mean cost: 1.46\n",
      "Model: 3525000, Success rate: 0.83, Mean reward: -11.23, Mean cost: 1.15\n",
      "Model: 3550000, Success rate: 0.91, Mean reward: -10.17, Mean cost: 1.36\n",
      "Model: 3575000, Success rate: 0.76, Mean reward: -11.31, Mean cost: 1.23\n",
      "Model: 3600000, Success rate: 0.83, Mean reward: -12.5, Mean cost: 2.49\n",
      "Model: 3625000, Success rate: 0.83, Mean reward: -11.51, Mean cost: 0.79\n",
      "Model: 3650000, Success rate: 0.82, Mean reward: -11.09, Mean cost: 1.01\n",
      "Model: 3675000, Success rate: 0.85, Mean reward: -10.37, Mean cost: 0.8\n",
      "Model: 3700000, Success rate: 0.9, Mean reward: -9.78, Mean cost: 0.99\n",
      "Model: 3725000, Success rate: 0.79, Mean reward: -12.0, Mean cost: 1.18\n",
      "Model: 3750000, Success rate: 0.66, Mean reward: -14.22, Mean cost: 1.07\n",
      "Model: 3775000, Success rate: 0.89, Mean reward: -10.3, Mean cost: 1.21\n",
      "Model: 3800000, Success rate: 0.82, Mean reward: -11.54, Mean cost: 1.37\n",
      "Model: 3825000, Success rate: 0.85, Mean reward: -10.91, Mean cost: 1.39\n",
      "Model: 3850000, Success rate: 0.8, Mean reward: -11.96, Mean cost: 1.34\n",
      "Model: 3875000, Success rate: 0.69, Mean reward: -12.6, Mean cost: 2.36\n",
      "Model: 3900000, Success rate: 0.8, Mean reward: -12.78, Mean cost: 1.94\n",
      "Model: 3925000, Success rate: 0.83, Mean reward: -11.62, Mean cost: 1.27\n",
      "Model: 3950000, Success rate: 0.78, Mean reward: -11.67, Mean cost: 0.79\n",
      "Model: 3975000, Success rate: 0.81, Mean reward: -12.46, Mean cost: 1.92\n",
      "Model: 4000000, Success rate: 0.78, Mean reward: -11.45, Mean cost: 1.07\n",
      "CPU times: user 2h 28min 28s, sys: 1min 7s, total: 2h 29min 35s\n",
      "Wall time: 20min 7s\n"
     ]
    }
   ],
   "source": [
    "%%time\n",
    "model_base = 3000000\n",
    "model_names = list(map(lambda x: model_base + x * 25000, range(41)))\n",
    "\n",
    "for m in model_names:\n",
    "    eval_model(0, 100, 2, m)"
   ]
  },
  {
   "cell_type": "code",
   "execution_count": 7,
   "id": "bc5127b0-4fac-4d70-9664-714269b02c7c",
   "metadata": {},
   "outputs": [
    {
     "name": "stdout",
     "output_type": "stream",
     "text": [
      "Seed: 3358\n"
     ]
    }
   ],
   "source": [
    "seed = np.random.randint(10000)\n",
    "print(f'Seed: {seed}')\n",
    "path = '../../sac_ae/log/CustomFetchPushCostSmallDense-v0-09-29-09-56-im84-b256-s1-drq/'\n",
    "agent, args = load_agent_and_args(path, path + 'model/latest_model.pt')\n",
    "#success_rate, mean_reward, mean_cost = calc_success_rate(agent, args, seed, 1000)\n",
    "#print(f'Success rate: {np.round(success_rate, 2)}, Mean reward: {np.round(mean_reward, 2)}, Mean cost: {np.round(mean_cost, 2)}')"
   ]
  },
  {
   "cell_type": "code",
   "execution_count": 10,
   "id": "0bcae695-7b30-4b7e-97f7-2482e252c814",
   "metadata": {},
   "outputs": [],
   "source": [
    "def record_video(agent, args, seed, video_name, num_episodes=1):\n",
    "    video = VideoRecorder('./model_analysis')\n",
    "\n",
    "    env = make_envs(args, is_eval=True, use_state=args.agent == 'sac_state')\n",
    "    env.seed(seed)\n",
    "\n",
    "    video.init()\n",
    "    video.record(env)\n",
    "    \n",
    "    for episode in range(num_episodes):\n",
    "        obs = env.reset()\n",
    "        episode_reward, episode_cost = 0, 0\n",
    "        actions = np.zeros(shape=(env._max_episode_steps, 4))\n",
    "\n",
    "        for step in range(env._max_episode_steps):\n",
    "                with eval_mode(agent):\n",
    "                    action = agent.select_action(obs)\n",
    "                    actions[step] = action\n",
    "\n",
    "                next_obs, reward, done, info = env.step(action)\n",
    "                video.record(env)\n",
    "                episode_reward += reward\n",
    "                if args.cost != 'no_cost':\n",
    "                    episode_cost += info['cost']\n",
    "\n",
    "                obs = next_obs\n",
    "        success = False\n",
    "        if info.get('is_success'):\n",
    "            success = True\n",
    "        print(f'Episode: {episode+1} Success: {success}, Reward: {np.round(episode_reward, decimals=2)}, Cost: {np.round(episode_cost, decimals=2)}')\n",
    "    \n",
    "    video.save(video_name)\n",
    "    #return actions"
   ]
  },
  {
   "cell_type": "code",
   "execution_count": 11,
   "id": "682c11b5-b186-454d-bb80-59196e9b115d",
   "metadata": {
    "tags": []
   },
   "outputs": [
    {
     "name": "stdout",
     "output_type": "stream",
     "text": [
      "Creating window glfw\n",
      "Episode: 1 Success: False, Reward: -48.64, Cost: 0\n",
      "Episode: 2 Success: False, Reward: -51.4, Cost: 0\n",
      "Episode: 3 Success: False, Reward: -34.12, Cost: 0\n",
      "Episode: 4 Success: False, Reward: -63.03, Cost: 0\n",
      "Episode: 5 Success: False, Reward: -39.03, Cost: 0\n",
      "Episode: 6 Success: False, Reward: -40.5, Cost: 0\n",
      "Episode: 7 Success: False, Reward: -53.0, Cost: 0\n",
      "Episode: 8 Success: False, Reward: -50.07, Cost: 0\n",
      "Episode: 9 Success: False, Reward: -52.11, Cost: 0\n",
      "Episode: 10 Success: False, Reward: -46.56, Cost: 0\n"
     ]
    }
   ],
   "source": [
    "record_video(agent, args, seed, f'{seed}.mp4', num_episodes=10)"
   ]
  },
  {
   "cell_type": "code",
   "execution_count": 12,
   "id": "acfdefb1-423a-4022-9bbb-d307eac8222e",
   "metadata": {},
   "outputs": [
    {
     "data": {
      "text/html": [
       "<video src=\"model_analysis/3358.mp4\" loop autoplay  >\n",
       "      Your browser does not support the <code>video</code> element.\n",
       "    </video>"
      ],
      "text/plain": [
       "<IPython.core.display.Video object>"
      ]
     },
     "metadata": {},
     "output_type": "display_data"
    }
   ],
   "source": [
    "display.display(display.Video(f'model_analysis/{seed}.mp4', html_attributes='loop autoplay'))"
   ]
  },
  {
   "cell_type": "code",
   "execution_count": null,
   "id": "ca8fdb08-04db-4c98-8316-5fe99d101592",
   "metadata": {},
   "outputs": [],
   "source": []
  }
 ],
 "metadata": {
  "kernelspec": {
   "display_name": "Python 3 (ipykernel)",
   "language": "python",
   "name": "python3"
  },
  "language_info": {
   "codemirror_mode": {
    "name": "ipython",
    "version": 3
   },
   "file_extension": ".py",
   "mimetype": "text/x-python",
   "name": "python",
   "nbconvert_exporter": "python",
   "pygments_lexer": "ipython3",
   "version": "3.8.10"
  }
 },
 "nbformat": 4,
 "nbformat_minor": 5
}
