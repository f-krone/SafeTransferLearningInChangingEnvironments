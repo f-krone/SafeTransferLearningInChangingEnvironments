{
 "cells": [
  {
   "cell_type": "code",
   "execution_count": 1,
   "id": "3fed8d40-7499-448f-9032-f04a553aec65",
   "metadata": {},
   "outputs": [],
   "source": [
    "import sys\n",
    "sys.path.append(\"../..\")\n",
    "sys.path.append(\"../../sac_ae\")"
   ]
  },
  {
   "cell_type": "code",
   "execution_count": 2,
   "id": "4f1a07c1-e1fd-4583-9555-8758b3f12b20",
   "metadata": {},
   "outputs": [],
   "source": [
    "import torch\n",
    "import numpy as np\n",
    "from IPython import display\n",
    "from ipywidgets import Output, GridspecLayout\n",
    "import seaborn as sns\n",
    "import matplotlib.pyplot as plt\n",
    "sns.set_theme()"
   ]
  },
  {
   "cell_type": "code",
   "execution_count": 3,
   "id": "947491b9-ef6a-47da-b3ad-d5165dbf5cc3",
   "metadata": {},
   "outputs": [],
   "source": [
    "from sac_ae.env import make_envs\n",
    "from sac_ae.model import make_model\n",
    "from sac_ae.agent import make_agent\n",
    "from utils.misc import eval_mode, VideoRecorder\n",
    "from utils.argument import Arguments"
   ]
  },
  {
   "cell_type": "code",
   "execution_count": 94,
   "id": "02098fd7-5fab-4a5e-a3e4-fc3537979d6d",
   "metadata": {},
   "outputs": [],
   "source": [
    "def load_agent_and_args(path, device=torch.device('cpu'), model_name='model/best_model.pt', fix_new_args=False):\n",
    "    args = Arguments(path + 'args.json')\n",
    "    if fix_new_args:\n",
    "        args.cost_samples = 10\n",
    "        args.cost_allowed_threshold = 0.05\n",
    "    weights = torch.load(path + model_name, map_location=device)\n",
    "\n",
    "    if args.agent == 'sac_state':\n",
    "        agent_obs_shape = weights['actor.encoder.projection.projection.0.weight'].shape[1:]\n",
    "        args.agent_image_size = agent_obs_shape[0]\n",
    "    else:\n",
    "        agent_obs_shape = (3*args.frame_stack, args.agent_image_size, args.agent_image_size)\n",
    "    action_shape = np.array([4])\n",
    "\n",
    "    model = make_model(agent_obs_shape, action_shape, args, device)\n",
    "    agent = make_agent(model, device, action_shape, args)\n",
    "    agent.load_model_from_dict(weights)\n",
    "    return agent, args"
   ]
  },
  {
   "cell_type": "code",
   "execution_count": 5,
   "id": "69409383-f02b-4403-83e5-5956cc7e8ce6",
   "metadata": {},
   "outputs": [],
   "source": [
    "def one_episode(agent, args, seed, video_name=None, compute_log_std=False):\n",
    "    if video_name != None:\n",
    "        video = VideoRecorder('./ensemble_analysis')\n",
    "\n",
    "    env = make_envs(args, is_eval=True, use_state=True)\n",
    "    env.seed(seed)\n",
    "    obs = env.reset()\n",
    "    \n",
    "    if video_name != None:\n",
    "        video.init()\n",
    "        video.record(env)\n",
    "\n",
    "    episode_reward, episode_cost = 0, 0\n",
    "    actions = np.zeros(shape=(env._max_episode_steps, 4))\n",
    "    \n",
    "    log_std_list = np.zeros(shape=(env._max_episode_steps, 4))\n",
    "\n",
    "    for step in range(env._max_episode_steps):\n",
    "            with eval_mode(agent):\n",
    "                action = agent.select_action(obs)\n",
    "                actions[step] = action\n",
    "                if compute_log_std:\n",
    "                    obs_torch = torch.FloatTensor(obs).to(device).unsqueeze(0)\n",
    "                    mu, pi, log_pi, log_std = agent.model.actor(obs_torch, compute_log_pi=True)\n",
    "                    log_std_list[step] = log_std.detach().cpu().numpy()\n",
    "\n",
    "            next_obs, reward, done, info = env.step(action)\n",
    "            if video_name != None:\n",
    "                video.record(env)\n",
    "            episode_reward += reward\n",
    "            if args.cost != 'no_cost':\n",
    "                episode_cost += info['cost']\n",
    "\n",
    "            obs = next_obs\n",
    "    if video_name != None:\n",
    "        video.save(video_name)\n",
    "    print(f'Reward: {np.round(episode_reward, decimals=2)}, Cost: {np.round(episode_cost, decimals=2)}')\n",
    "    if compute_log_std:\n",
    "        return log_std_list\n",
    "    return actions"
   ]
  },
  {
   "cell_type": "code",
   "execution_count": 6,
   "id": "8adae11a-bac9-49cd-a478-01a2fa015527",
   "metadata": {},
   "outputs": [],
   "source": [
    "def calc_success_rate(agent, args, seed, num_episodes=100, stochastic=False):\n",
    "    env = make_envs(args, is_eval=True, use_state=args.agent == 'sac_state')\n",
    "    env.seed(seed)\n",
    "    \n",
    "    num_successes, reward_sum, cost_sum = 0, 0, 0\n",
    "    \n",
    "    for i in range(num_episodes): \n",
    "        obs = env.reset()\n",
    "\n",
    "        episode_reward, episode_cost = 0, 0\n",
    "        done = False\n",
    "\n",
    "        while not done:\n",
    "                with eval_mode(agent):\n",
    "                    if stochastic:\n",
    "                        action = agent.sample_action(obs)\n",
    "                    else:\n",
    "                        action = agent.select_action(obs)\n",
    "\n",
    "                next_obs, reward, done, info = env.step(action)\n",
    "                episode_reward += reward\n",
    "                if args.cost != 'no_cost':\n",
    "                    episode_cost += info['cost']\n",
    "\n",
    "                obs = next_obs\n",
    "        reward_sum += episode_reward\n",
    "        cost_sum += episode_cost\n",
    "        success = False\n",
    "        if info.get('is_success'):\n",
    "            num_successes += 1\n",
    "            success = True\n",
    "    return num_successes / num_episodes, reward_sum / num_episodes, cost_sum / num_episodes"
   ]
  },
  {
   "cell_type": "code",
   "execution_count": 8,
   "id": "d1c73f05-b080-42ee-8a73-5db9058422cf",
   "metadata": {
    "tags": []
   },
   "outputs": [
    {
     "name": "stdout",
     "output_type": "stream",
     "text": [
      "5106\n",
      "Creating window glfw\n",
      "Reward: -12.01, Cost: 0.02\n",
      "Creating window glfw\n",
      "Reward: -20.65, Cost: 0.04\n",
      "Creating window glfw\n",
      "Reward: -19.3, Cost: 0\n"
     ]
    }
   ],
   "source": [
    "base_path = '../../../output/fetch-push-cost-small-fix-ensemble/SAC_ensemble_'\n",
    "device = 'cpu'\n",
    "actions_buffer = []\n",
    "seed = np.random.randint(10000)\n",
    "print(seed)\n",
    "\n",
    "for i in range(3):\n",
    "    path = base_path + f'{i}/'\n",
    "    agent, args = load_agent_and_args(path)\n",
    "    actions = one_episode(agent, args, seed, f'ensemble_{i}.mp4')\n",
    "    actions_buffer.append(actions)\n",
    "    #success_rate, mean_reward, mean_cost = calc_success_rate(agent, args, seed, 100)\n",
    "    #print(f'Model: {i}, Success rate: {np.round(success_rate, 2)}, Mean reward: {np.round(mean_reward, 2)}, Mean cost: {np.round(mean_cost, 2)}')"
   ]
  },
  {
   "cell_type": "code",
   "execution_count": 10,
   "id": "c1d995a7-d20d-4aca-bb9d-dc14dcc71a22",
   "metadata": {},
   "outputs": [
    {
     "name": "stdout",
     "output_type": "stream",
     "text": [
      "Seed: 6007\n",
      "Model: 0, Success rate: 0.91, Mean reward: -3.57, Mean cost: 0.0\n",
      "Model: 1, Success rate: 0.73, Mean reward: -6.23, Mean cost: 0.0\n",
      "Model: 2, Success rate: 0.71, Mean reward: -6.37, Mean cost: 0.0\n",
      "Model: 3, Success rate: 0.93, Mean reward: -4.34, Mean cost: 0.0\n"
     ]
    }
   ],
   "source": [
    "base_path = '../../../output/fetch-push-ae-ensemble/SAC_ensemble_'\n",
    "seed = np.random.randint(10000)\n",
    "print(f'Seed: {seed}')\n",
    "\n",
    "for i in range(4):\n",
    "    path = base_path + f'{i}/'\n",
    "    agent, args = load_agent_and_args(path, device=torch.device('cuda'), model_name='model/1500000.pt')\n",
    "    success_rate, mean_reward, mean_cost = calc_success_rate(agent, args, seed, 500, False)\n",
    "    print(f'Model: {i}, Success rate: {np.round(success_rate, 2)}, Mean reward: {np.round(mean_reward, 2)}, Mean cost: {np.round(mean_cost, 2)}')"
   ]
  },
  {
   "cell_type": "code",
   "execution_count": 9,
   "id": "7a16a962-2a49-4bdc-9d44-4934510aa6c4",
   "metadata": {},
   "outputs": [
    {
     "name": "stdout",
     "output_type": "stream",
     "text": [
      "Seed: 466\n",
      "==================== Deterministic ====================\n",
      "Model: 0, Success rate: 0.94, Mean reward: -3.03, Mean cost: 0.0\n",
      "Model: 1, Success rate: 0.76, Mean reward: -6.11, Mean cost: 0.0\n",
      "Model: 2, Success rate: 0.88, Mean reward: -4.65, Mean cost: 0.0\n",
      "Model: 3, Success rate: 0.82, Mean reward: -5.23, Mean cost: 0.0\n",
      "==================== Stochastic ====================\n",
      "Model: 0, Success rate: 0.95, Mean reward: -2.94, Mean cost: 0.0\n",
      "Model: 1, Success rate: 0.75, Mean reward: -6.02, Mean cost: 0.0\n",
      "Model: 2, Success rate: 0.89, Mean reward: -4.21, Mean cost: 0.0\n",
      "Model: 3, Success rate: 0.83, Mean reward: -5.26, Mean cost: 0.0\n"
     ]
    }
   ],
   "source": [
    "base_path = '../../../output/fetch-push-ae-ensemble/SAC_ensemble_'\n",
    "seed = np.random.randint(10000)\n",
    "print(f'Seed: {seed}')\n",
    "\n",
    "for stochastic in range(2):\n",
    "    print(f'{\"=\"*20} {\"Stochastic\" if stochastic else \"Deterministic\"} {\"=\"*20}')\n",
    "    for i in range(4):\n",
    "        path = base_path + f'{i}/'\n",
    "        agent, args = load_agent_and_args(path, device=torch.device('cuda'), model_name='best_model.pt')\n",
    "        success_rate, mean_reward, mean_cost = calc_success_rate(agent, args, seed, 500, stochastic)\n",
    "        print(f'Model: {i}, Success rate: {np.round(success_rate, 2)}, Mean reward: {np.round(mean_reward, 2)}, Mean cost: {np.round(mean_cost, 2)}')"
   ]
  },
  {
   "cell_type": "code",
   "execution_count": 14,
   "id": "75be2cc5-3cc9-437c-9281-332dc982f806",
   "metadata": {},
   "outputs": [
    {
     "name": "stdout",
     "output_type": "stream",
     "text": [
      "Seed: 1097\n",
      "==================== Deterministic ====================\n",
      "Model: 0, Success rate: 0.74, Mean reward: -15.52, Mean cost: 2.31\n",
      "Model: 1, Success rate: 0.41, Mean reward: -22.0, Mean cost: 1.98\n",
      "Model: 2, Success rate: 0.68, Mean reward: -17.49, Mean cost: 2.49\n",
      "==================== Stochastic ====================\n",
      "Model: 0, Success rate: 0.74, Mean reward: -16.19, Mean cost: 2.49\n",
      "Model: 1, Success rate: 0.41, Mean reward: -22.79, Mean cost: 2.93\n",
      "Model: 2, Success rate: 0.64, Mean reward: -17.81, Mean cost: 2.06\n",
      "CPU times: user 18min 55s, sys: 6.16 s, total: 19min 1s\n",
      "Wall time: 15min 32s\n"
     ]
    }
   ],
   "source": [
    "%%time\n",
    "base_path = '../../../output/fetch-push-cost-small-ensemble/SAC_ensemble_'\n",
    "seed = np.random.randint(10000)\n",
    "print(f'Seed: {seed}')\n",
    "\n",
    "for stochastic in range(2):\n",
    "    print(f'{\"=\"*20} {\"Stochastic\" if stochastic else \"Deterministic\"} {\"=\"*20}')\n",
    "    for i in range(3):\n",
    "        path = base_path + f'{i}/'\n",
    "        agent, args = load_agent_and_args(path, device=torch.device('cuda'), model_name='best_model.pt')\n",
    "        success_rate, mean_reward, mean_cost = calc_success_rate(agent, args, seed, 500, stochastic)\n",
    "        print(f'Model: {i}, Success rate: {np.round(success_rate, 2)}, Mean reward: {np.round(mean_reward, 2)}, Mean cost: {np.round(mean_cost, 2)}')\n"
   ]
  },
  {
   "cell_type": "markdown",
   "id": "f4000fcc-f2c5-4334-a220-21bfa9bb6ef6",
   "metadata": {},
   "source": [
    "# After tanh fix"
   ]
  },
  {
   "cell_type": "code",
   "execution_count": 12,
   "id": "a478df8e-d894-463a-94e6-6917bbb6a2f8",
   "metadata": {
    "tags": []
   },
   "outputs": [
    {
     "name": "stdout",
     "output_type": "stream",
     "text": [
      "Seed: 4641\n",
      "==================== Deterministic ====================\n",
      "Model: 0, Success rate: 0.81, Mean reward: -12.7, Mean cost: 1.51\n",
      "Model: 1, Success rate: 0.62, Mean reward: -17.11, Mean cost: 1.77\n",
      "Model: 2, Success rate: 0.76, Mean reward: -14.94, Mean cost: 2.21\n",
      "==================== Stochastic ====================\n",
      "Model: 0, Success rate: 0.79, Mean reward: -12.95, Mean cost: 1.1\n",
      "Model: 1, Success rate: 0.62, Mean reward: -17.56, Mean cost: 1.91\n",
      "Model: 2, Success rate: 0.76, Mean reward: -14.42, Mean cost: 1.91\n",
      "CPU times: user 18min 50s, sys: 6.41 s, total: 18min 56s\n",
      "Wall time: 15min 27s\n"
     ]
    }
   ],
   "source": [
    "%%time\n",
    "base_path = '../../../output/fetch-push-cost-small-fix-ensemble/SAC_ensemble_'\n",
    "seed = np.random.randint(10000)\n",
    "print(f'Seed: {seed}')\n",
    "\n",
    "for stochastic in range(2):\n",
    "    print(f'{\"=\"*20} {\"Stochastic\" if stochastic else \"Deterministic\"} {\"=\"*20}')\n",
    "    for i in range(3):\n",
    "        path = base_path + f'{i}/'\n",
    "        agent, args = load_agent_and_args(path, device=torch.device('cuda'), model_name='model/best_model.pt')\n",
    "        success_rate, mean_reward, mean_cost = calc_success_rate(agent, args, seed, 500, stochastic)\n",
    "        print(f'Model: {i}, Success rate: {np.round(success_rate, 2)}, Mean reward: {np.round(mean_reward, 2)}, Mean cost: {np.round(mean_cost, 2)}')\n"
   ]
  },
  {
   "cell_type": "code",
   "execution_count": 10,
   "id": "77ee131d-185b-4c1e-b32a-6bc639a02d6b",
   "metadata": {},
   "outputs": [
    {
     "data": {
      "application/vnd.jupyter.widget-view+json": {
       "model_id": "68ab0700014a46c2834865396d3d06d1",
       "version_major": 2,
       "version_minor": 0
      },
      "text/plain": [
       "GridspecLayout(children=(Output(layout=Layout(grid_area='widget001')), Output(layout=Layout(grid_area='widget0…"
      ]
     },
     "metadata": {},
     "output_type": "display_data"
    }
   ],
   "source": [
    "grid = GridspecLayout(1, 3)\n",
    "for i in range(3):\n",
    "    out = Output()\n",
    "    with out:\n",
    "        display.display(display.Video(f'ensemble_analysis/ensemble_{i}.mp4', html_attributes='loop autoplay'))\n",
    "    grid[0, i] = out\n",
    "grid"
   ]
  },
  {
   "cell_type": "code",
   "execution_count": 11,
   "id": "64fc8b95-63ae-4c6e-8f34-1e06bdd54655",
   "metadata": {},
   "outputs": [
    {
     "data": {
      "image/png": "[encoded data removed]",
      "text/plain": [
       "<Figure size 1440x720 with 4 Axes>"
      ]
     },
     "metadata": {},
     "output_type": "display_data"
    }
   ],
   "source": [
    "fig = plt.figure(figsize=(20, 10))\n",
    "for action in range(4):\n",
    "    ax = fig.add_subplot(2, 2, action+1)\n",
    "    for i in range(3):\n",
    "        sns.lineplot(data=actions_buffer[i][:, action], label=f'Ensemble {i}', legend=False)\n",
    "    ax.set_title(f'Action {action}')\n",
    "fig.legend(['Ensemble 1', 'Ensemble 2', 'Ensemble 3'])\n",
    "sns.move_legend(fig, 'lower center', bbox_to_anchor=(.5, 0.05), ncol=3, title=None, frameon=False)\n",
    "plt.savefig('ensemble_analysis/action_visualization.png', bbox_inches='tight', pad_inches=0)"
   ]
  },
  {
   "cell_type": "code",
   "execution_count": 5,
   "id": "3fe20e3d-dcd5-4854-b956-1d5908b3968a",
   "metadata": {},
   "outputs": [],
   "source": [
    "import pandas as pd"
   ]
  },
  {
   "cell_type": "code",
   "execution_count": 18,
   "id": "b18d3d94-2fda-4613-be0e-1fe08d7f88bf",
   "metadata": {},
   "outputs": [
    {
     "data": {
      "text/plain": [
       "582784"
      ]
     },
     "execution_count": 18,
     "metadata": {},
     "output_type": "execute_result"
    }
   ],
   "source": [
    "ensemble_results = pd.DataFrame()\n",
    "seed = np.random.randint(1000000)\n",
    "seed"
   ]
  },
  {
   "cell_type": "code",
   "execution_count": 81,
   "id": "1ada6d51-54a2-4bb7-89e1-22a7a5b2247e",
   "metadata": {},
   "outputs": [],
   "source": [
    "reach_results = pd.DataFrame(columns=['environment', 'ensemble_id', 'success_rate', 'mean_reward'])\n",
    "reach_results['ensemble_id'] = pd.to_numeric(reach_results['ensemble_id'], downcast='integer')\n",
    "base_path = '../../../output/fetch-reach-ae-ensemble/SAC_ensemble_'\n",
    "for i in range(3):\n",
    "    path = base_path + f'{i}/'\n",
    "    agent, args = load_agent_and_args(path, device=torch.device('cuda'), model_name='best_model.pt')\n",
    "    success_rate, mean_reward, mean_cost = calc_success_rate(agent, args, seed, 1000, False)\n",
    "    reach_results.loc[len(reach_results)] = ['FetchReach', i+1, success_rate, mean_reward]"
   ]
  },
  {
   "cell_type": "code",
   "execution_count": 53,
   "id": "b3d9939e-248b-487f-8587-1ff15f472886",
   "metadata": {},
   "outputs": [
    {
     "name": "stdout",
     "output_type": "stream",
     "text": [
      "\\begin{tabular}{lrrr}\n",
      "\\toprule\n",
      "Environment & Id & Success Rate &    Reward \\\\\n",
      "\\midrule\n",
      " FetchReach &  1 &          1.0 & -0.625487 \\\\\n",
      " FetchReach &  2 &          1.0 & -0.589240 \\\\\n",
      " FetchReach &  3 &          1.0 & -0.498755 \\\\\n",
      "\\bottomrule\n",
      "\\end{tabular}\n",
      "\n"
     ]
    }
   ],
   "source": [
    "print(reach_results.to_latex(index=False, header=['Environment', 'Id', 'Success Rate', 'Reward']))"
   ]
  },
  {
   "cell_type": "code",
   "execution_count": 82,
   "id": "a99428de-2482-44af-ba0e-f7df7a854123",
   "metadata": {},
   "outputs": [],
   "source": [
    "push_results = pd.DataFrame(columns=['environment', 'ensemble_id', 'success_rate', 'mean_reward'])\n",
    "push_results['ensemble_id'] = pd.to_numeric(push_results['ensemble_id'], downcast='integer')\n",
    "base_path = '../../../output/fetch-push-ae-ensemble/SAC_ensemble_'\n",
    "model_names = ['best_model.pt', 'best_model.pt', 'model/1500000.pt']\n",
    "for i, name in enumerate([0,2,3]):\n",
    "    path = base_path + f'{name}/'\n",
    "    agent, args = load_agent_and_args(path, device=torch.device('cuda'), model_name=model_names[i])\n",
    "    success_rate, mean_reward, mean_cost = calc_success_rate(agent, args, seed, 1000, False)\n",
    "    push_results.loc[len(push_results)] = ['FetchPush', i+1, success_rate, mean_reward]"
   ]
  },
  {
   "cell_type": "code",
   "execution_count": 83,
   "id": "e24d03e3-f562-40d3-970a-73d74487ae53",
   "metadata": {},
   "outputs": [],
   "source": [
    "barrier_results = pd.DataFrame(columns=['environment', 'ensemble_id', 'success_rate', 'mean_reward', 'mean_cost'])\n",
    "barrier_results['ensemble_id'] = pd.to_numeric(barrier_results['ensemble_id'], downcast='integer')\n",
    "base_path = '../../../output/fetch-push-cost-small-'\n",
    "paths = ['ensemble/SAC_ensemble_0/', 'fix-ensemble/SAC_ensemble_0/', 'fix-ensemble/SAC_ensemble_2/']\n",
    "for i in range(3):\n",
    "    path = base_path + paths[i]\n",
    "    agent, args = load_agent_and_args(path, device=torch.device('cuda'), model_name='model/best_model.pt')\n",
    "    success_rate, mean_reward, mean_cost = calc_success_rate(agent, args, seed, 1000, False)\n",
    "    barrier_results.loc[len(barrier_results)] = ['FetchPushBarrier', i+1, success_rate, mean_reward, mean_cost]"
   ]
  },
  {
   "cell_type": "code",
   "execution_count": 84,
   "id": "65b35981-a9b1-4ef5-aea0-4ba711ffa815",
   "metadata": {},
   "outputs": [
    {
     "data": {
      "text/html": [
       "<div>\n",
       "<style scoped>\n",
       "    .dataframe tbody tr th:only-of-type {\n",
       "        vertical-align: middle;\n",
       "    }\n",
       "\n",
       "    .dataframe tbody tr th {\n",
       "        vertical-align: top;\n",
       "    }\n",
       "\n",
       "    .dataframe thead th {\n",
       "        text-align: right;\n",
       "    }\n",
       "</style>\n",
       "<table border=\"1\" class=\"dataframe\">\n",
       "  <thead>\n",
       "    <tr style=\"text-align: right;\">\n",
       "      <th></th>\n",
       "      <th>environment</th>\n",
       "      <th>ensemble_id</th>\n",
       "      <th>success_rate</th>\n",
       "      <th>mean_reward</th>\n",
       "      <th>mean_cost</th>\n",
       "    </tr>\n",
       "  </thead>\n",
       "  <tbody>\n",
       "    <tr>\n",
       "      <th>0</th>\n",
       "      <td>FetchReach</td>\n",
       "      <td>1</td>\n",
       "      <td>1.000</td>\n",
       "      <td>-0.599737</td>\n",
       "      <td>NaN</td>\n",
       "    </tr>\n",
       "    <tr>\n",
       "      <th>1</th>\n",
       "      <td>FetchReach</td>\n",
       "      <td>2</td>\n",
       "      <td>1.000</td>\n",
       "      <td>-0.571669</td>\n",
       "      <td>NaN</td>\n",
       "    </tr>\n",
       "    <tr>\n",
       "      <th>2</th>\n",
       "      <td>FetchReach</td>\n",
       "      <td>3</td>\n",
       "      <td>1.000</td>\n",
       "      <td>-0.484365</td>\n",
       "      <td>NaN</td>\n",
       "    </tr>\n",
       "    <tr>\n",
       "      <th>3</th>\n",
       "      <td>FetchPush</td>\n",
       "      <td>1</td>\n",
       "      <td>0.930</td>\n",
       "      <td>-3.373885</td>\n",
       "      <td>NaN</td>\n",
       "    </tr>\n",
       "    <tr>\n",
       "      <th>4</th>\n",
       "      <td>FetchPush</td>\n",
       "      <td>2</td>\n",
       "      <td>0.849</td>\n",
       "      <td>-4.774100</td>\n",
       "      <td>NaN</td>\n",
       "    </tr>\n",
       "    <tr>\n",
       "      <th>5</th>\n",
       "      <td>FetchPush</td>\n",
       "      <td>3</td>\n",
       "      <td>0.925</td>\n",
       "      <td>-4.252520</td>\n",
       "      <td>NaN</td>\n",
       "    </tr>\n",
       "    <tr>\n",
       "      <th>6</th>\n",
       "      <td>FetchPushBarrier</td>\n",
       "      <td>1</td>\n",
       "      <td>0.726</td>\n",
       "      <td>-14.873336</td>\n",
       "      <td>1.370488</td>\n",
       "    </tr>\n",
       "    <tr>\n",
       "      <th>7</th>\n",
       "      <td>FetchPushBarrier</td>\n",
       "      <td>2</td>\n",
       "      <td>0.790</td>\n",
       "      <td>-12.438865</td>\n",
       "      <td>1.074887</td>\n",
       "    </tr>\n",
       "    <tr>\n",
       "      <th>8</th>\n",
       "      <td>FetchPushBarrier</td>\n",
       "      <td>3</td>\n",
       "      <td>0.767</td>\n",
       "      <td>-14.937344</td>\n",
       "      <td>2.294314</td>\n",
       "    </tr>\n",
       "  </tbody>\n",
       "</table>\n",
       "</div>"
      ],
      "text/plain": [
       "        environment  ensemble_id  success_rate  mean_reward  mean_cost\n",
       "0        FetchReach            1         1.000    -0.599737        NaN\n",
       "1        FetchReach            2         1.000    -0.571669        NaN\n",
       "2        FetchReach            3         1.000    -0.484365        NaN\n",
       "3         FetchPush            1         0.930    -3.373885        NaN\n",
       "4         FetchPush            2         0.849    -4.774100        NaN\n",
       "5         FetchPush            3         0.925    -4.252520        NaN\n",
       "6  FetchPushBarrier            1         0.726   -14.873336   1.370488\n",
       "7  FetchPushBarrier            2         0.790   -12.438865   1.074887\n",
       "8  FetchPushBarrier            3         0.767   -14.937344   2.294314"
      ]
     },
     "execution_count": 84,
     "metadata": {},
     "output_type": "execute_result"
    }
   ],
   "source": [
    "results = reach_results.append(push_results, ignore_index=True).append(barrier_results, ignore_index=True)\n",
    "results"
   ]
  },
  {
   "cell_type": "code",
   "execution_count": 94,
   "id": "c8cd2167-77ec-4171-8ced-cc2a5a7cfd04",
   "metadata": {
    "collapsed": true,
    "jupyter": {
     "outputs_hidden": true
    },
    "tags": []
   },
   "outputs": [
    {
     "name": "stdout",
     "output_type": "stream",
     "text": [
      "\\begin{tabular}{lrrrr}\n",
      "\\toprule\n",
      "     Environment & Id & Success Rate &  Reward &  Cost \\\\\n",
      "\\midrule\n",
      "      FetchReach &  1 &        1.000 &  -0.600 &       \\\\\n",
      "      FetchReach &  2 &        1.000 &  -0.572 &       \\\\\n",
      "      FetchReach &  3 &        1.000 &  -0.484 &       \\\\\n",
      "       FetchPush &  1 &        0.930 &  -3.374 &       \\\\\n",
      "       FetchPush &  2 &        0.849 &  -4.774 &       \\\\\n",
      "       FetchPush &  3 &        0.925 &  -4.253 &       \\\\\n",
      "FetchPushBarrier &  1 &        0.726 & -14.873 & 1.370 \\\\\n",
      "FetchPushBarrier &  2 &        0.790 & -12.439 & 1.075 \\\\\n",
      "FetchPushBarrier &  3 &        0.767 & -14.937 & 2.294 \\\\\n",
      "\\bottomrule\n",
      "\\end{tabular}\n",
      "\n"
     ]
    }
   ],
   "source": [
    "print(results.round(3).to_latex(index=False, header=['Environment', 'Id', 'Success Rate', 'Reward', 'Cost'], na_rep=''))"
   ]
  },
  {
   "cell_type": "code",
   "execution_count": 12,
   "id": "2f6b481d-fdb4-4bb4-868f-5e7598a4e8d6",
   "metadata": {},
   "outputs": [],
   "source": [
    "results.to_pickle('results/ensemble_tabe.pkl')"
   ]
  },
  {
   "cell_type": "code",
   "execution_count": 6,
   "id": "908f2b38-7c9a-47e3-9da3-596182287f1b",
   "metadata": {},
   "outputs": [],
   "source": [
    "results = pd.read_pickle('results/ensemble_tabe.pkl')"
   ]
  },
  {
   "cell_type": "code",
   "execution_count": 97,
   "id": "bda1ad02-19b6-4294-b1d5-fbc9c52cdc75",
   "metadata": {},
   "outputs": [
    {
     "data": {
      "text/plain": [
       "-0.552"
      ]
     },
     "execution_count": 97,
     "metadata": {},
     "output_type": "execute_result"
    }
   ],
   "source": [
    "reach_results['mean_reward'].mean().round(3)"
   ]
  },
  {
   "cell_type": "code",
   "execution_count": 99,
   "id": "63c133bd-179a-422d-bc1f-a628f87d209d",
   "metadata": {},
   "outputs": [
    {
     "data": {
      "text/plain": [
       "-4.134"
      ]
     },
     "execution_count": 99,
     "metadata": {},
     "output_type": "execute_result"
    }
   ],
   "source": [
    "push_results['mean_reward'].mean().round(3)"
   ]
  },
  {
   "cell_type": "code",
   "execution_count": 101,
   "id": "a850ce90-8d5e-419f-9aba-e3aea93c03f9",
   "metadata": {},
   "outputs": [
    {
     "data": {
      "text/plain": [
       "1.58"
      ]
     },
     "execution_count": 101,
     "metadata": {},
     "output_type": "execute_result"
    }
   ],
   "source": [
    "barrier_results['mean_cost'].mean().round(3)"
   ]
  },
  {
   "cell_type": "code",
   "execution_count": 8,
   "id": "375242da-96a4-478b-bcd2-34fcbb4dbc6b",
   "metadata": {},
   "outputs": [
    {
     "data": {
      "text/html": [
       "<div>\n",
       "<style scoped>\n",
       "    .dataframe tbody tr th:only-of-type {\n",
       "        vertical-align: middle;\n",
       "    }\n",
       "\n",
       "    .dataframe tbody tr th {\n",
       "        vertical-align: top;\n",
       "    }\n",
       "\n",
       "    .dataframe thead th {\n",
       "        text-align: right;\n",
       "    }\n",
       "</style>\n",
       "<table border=\"1\" class=\"dataframe\">\n",
       "  <thead>\n",
       "    <tr style=\"text-align: right;\">\n",
       "      <th></th>\n",
       "      <th>environment</th>\n",
       "      <th>ensemble_id</th>\n",
       "      <th>success_rate</th>\n",
       "      <th>mean_reward</th>\n",
       "      <th>mean_cost</th>\n",
       "    </tr>\n",
       "  </thead>\n",
       "  <tbody>\n",
       "    <tr>\n",
       "      <th>2</th>\n",
       "      <td>FetchReach</td>\n",
       "      <td>2.0</td>\n",
       "      <td>1.000000</td>\n",
       "      <td>-0.551924</td>\n",
       "      <td>NaN</td>\n",
       "    </tr>\n",
       "    <tr>\n",
       "      <th>0</th>\n",
       "      <td>FetchPush</td>\n",
       "      <td>2.0</td>\n",
       "      <td>0.901333</td>\n",
       "      <td>-4.133502</td>\n",
       "      <td>NaN</td>\n",
       "    </tr>\n",
       "    <tr>\n",
       "      <th>1</th>\n",
       "      <td>FetchPushBarrier</td>\n",
       "      <td>2.0</td>\n",
       "      <td>0.761000</td>\n",
       "      <td>-14.083182</td>\n",
       "      <td>1.579896</td>\n",
       "    </tr>\n",
       "  </tbody>\n",
       "</table>\n",
       "</div>"
      ],
      "text/plain": [
       "        environment  ensemble_id  success_rate  mean_reward  mean_cost\n",
       "2        FetchReach          2.0      1.000000    -0.551924        NaN\n",
       "0         FetchPush          2.0      0.901333    -4.133502        NaN\n",
       "1  FetchPushBarrier          2.0      0.761000   -14.083182   1.579896"
      ]
     },
     "execution_count": 8,
     "metadata": {},
     "output_type": "execute_result"
    }
   ],
   "source": [
    "grouped = results.groupby(['environment']).mean().reset_index().sort_values(by='success_rate', ascending=False)\n",
    "grouped"
   ]
  },
  {
   "cell_type": "code",
   "execution_count": 40,
   "id": "5594f743-35cc-4a61-980c-095e3b19b8ba",
   "metadata": {},
   "outputs": [
    {
     "data": {
      "image/png": "[encoded data removed]",
      "text/plain": [
       "<Figure size 720x360 with 1 Axes>"
      ]
     },
     "metadata": {},
     "output_type": "display_data"
    }
   ],
   "source": [
    "fig = plt.figure(figsize=(10,5))\n",
    "fig.patch.set_facecolor('white')\n",
    "sns.set_context(\"notebook\")\n",
    "sns.set(style='whitegrid', font_scale=2)\n",
    "\n",
    "graph = sns.barplot(data=grouped, x='environment', y='success_rate', palette='colorblind')\n",
    "\n",
    "graph.set(xlabel='', ylabel='Teacher Success Rate')\n",
    "\n",
    "plt.savefig('results/ensemble_bar.png', bbox_inches='tight')"
   ]
  },
  {
   "cell_type": "code",
   "execution_count": 48,
   "id": "34668855-3ca6-4d9e-9a50-cdd95a72ac84",
   "metadata": {},
   "outputs": [],
   "source": [
    "def calc_avg_confidence(agents, args, seed, num_episodes=100, teacher_index=0):\n",
    "    env = make_envs(args[0], is_eval=True, use_state=args[0].agent == 'sac_state')\n",
    "    env.seed(seed)\n",
    "    \n",
    "    num_successes, reward_sum, cost_sum, confidence_sum = 0, 0.0, 0.0, 0.0\n",
    "    \n",
    "    for i in range(num_episodes): \n",
    "        obs = env.reset()\n",
    "\n",
    "        episode_reward, episode_cost = 0.0, 0.0\n",
    "        done = False\n",
    "\n",
    "        while not done:\n",
    "                with eval_mode(agent):\n",
    "                    actions = np.asarray(list(map(lambda x: x.select_action(obs), iter(agents))))\n",
    "                confidence = np.exp(-actions.std(axis=0).mean())\n",
    "                \n",
    "                next_obs, reward, done, info = env.step(actions[teacher_index])\n",
    "                episode_reward += reward\n",
    "                if args[0].cost != 'no_cost':\n",
    "                    episode_cost += info['cost']\n",
    "\n",
    "                obs = next_obs\n",
    "        reward_sum += episode_reward\n",
    "        cost_sum += episode_cost\n",
    "        confidence_sum += confidence\n",
    "        success = False\n",
    "        if info.get('is_success'):\n",
    "            num_successes += 1\n",
    "            success = True\n",
    "    return num_successes / num_episodes, reward_sum / num_episodes, cost_sum / num_episodes, confidence_sum / num_episodes"
   ]
  },
  {
   "cell_type": "code",
   "execution_count": 23,
   "id": "db50414e-f8eb-40ef-b171-b288b9459133",
   "metadata": {},
   "outputs": [],
   "source": [
    "import pandas as pd"
   ]
  },
  {
   "cell_type": "code",
   "execution_count": 9,
   "id": "9b875392-23da-4cab-936c-99528f77ee1a",
   "metadata": {},
   "outputs": [
    {
     "data": {
      "text/plain": [
       "266780"
      ]
     },
     "execution_count": 9,
     "metadata": {},
     "output_type": "execute_result"
    }
   ],
   "source": [
    "seed = np.random.randint(1000000)\n",
    "seed"
   ]
  },
  {
   "cell_type": "code",
   "execution_count": 44,
   "id": "f559f962-3b3f-4d1a-bf9b-7ea44c832db9",
   "metadata": {},
   "outputs": [],
   "source": [
    "teacher_confidence_results = pd.DataFrame(columns=['environment', 'success_rate', 'mean_reward', 'mean_cost', 'mean_confidence'])"
   ]
  },
  {
   "cell_type": "code",
   "execution_count": 46,
   "id": "cb06f3ef-6bed-48d3-a56b-4fab88ab7088",
   "metadata": {},
   "outputs": [],
   "source": [
    "base_path = '../../../output/fetch-push-cost-small-'\n",
    "paths = ['ensemble/SAC_ensemble_0/', 'fix-ensemble/SAC_ensemble_0/', 'fix-ensemble/SAC_ensemble_2/']\n",
    "agents = []\n",
    "args_list = []\n",
    "for i in range(3):\n",
    "    path = base_path + paths[i]\n",
    "    agent, args = load_agent_and_args(path, device=torch.device('cuda'), model_name='model/best_model.pt')\n",
    "    agents.append(agent)\n",
    "    args_list.append(args)"
   ]
  },
  {
   "cell_type": "code",
   "execution_count": 50,
   "id": "e75d7ede-8774-4bb5-b702-19dd2611cbbd",
   "metadata": {},
   "outputs": [],
   "source": [
    "success_rate, mean_reward, mean_cost, mean_confidence = calc_avg_confidence(agents, args_list, seed, 1000, 1)\n",
    "teacher_confidence_results.loc[len(teacher_confidence_results.index)] = ['FetchPushBarrier', success_rate, mean_reward, mean_cost, mean_confidence]"
   ]
  },
  {
   "cell_type": "code",
   "execution_count": 51,
   "id": "fbe33f53-2a8f-451b-8388-3b455e1e420a",
   "metadata": {},
   "outputs": [],
   "source": [
    "base_path = '../../../output/fetch-push-ae-ensemble/SAC_ensemble_'\n",
    "model_names = ['best_model.pt', 'best_model.pt', 'model/1500000.pt']\n",
    "agents = []\n",
    "args_list = []\n",
    "for i, name in enumerate([0,2,3]):\n",
    "    path = base_path + f'{name}/'\n",
    "    agent, args = load_agent_and_args(path, device=torch.device('cuda'), model_name=model_names[i])\n",
    "    agents.append(agent)\n",
    "    args_list.append(args)"
   ]
  },
  {
   "cell_type": "code",
   "execution_count": 52,
   "id": "2dd5a44b-ab9a-479c-874f-ef727f508164",
   "metadata": {},
   "outputs": [],
   "source": [
    "success_rate, mean_reward, mean_cost, mean_confidence = calc_avg_confidence(agents, args_list, seed, 1000, 0)\n",
    "teacher_confidence_results.loc[len(teacher_confidence_results.index)] = ['FetchPush', success_rate, mean_reward, mean_cost, mean_confidence]"
   ]
  },
  {
   "cell_type": "code",
   "execution_count": 53,
   "id": "0e9bfb98-5ea6-437b-b946-173075965a9c",
   "metadata": {},
   "outputs": [],
   "source": [
    "base_path = '../../../output/fetch-reach-ae-ensemble/SAC_ensemble_'\n",
    "agents = []\n",
    "args_list = []\n",
    "for i in range(3):\n",
    "    path = base_path + f'{i}/'\n",
    "    agent, args = load_agent_and_args(path, device=torch.device('cuda'), model_name='best_model.pt')\n",
    "    agents.append(agent)\n",
    "    args_list.append(args)"
   ]
  },
  {
   "cell_type": "code",
   "execution_count": 54,
   "id": "319efe81-bb5e-4ae6-bce7-0dff6e71c799",
   "metadata": {},
   "outputs": [],
   "source": [
    "success_rate, mean_reward, mean_cost, mean_confidence = calc_avg_confidence(agents, args_list, seed, 1000, 0)\n",
    "teacher_confidence_results.loc[len(teacher_confidence_results.index)] = ['FetchReach', success_rate, mean_reward, mean_cost, mean_confidence]"
   ]
  },
  {
   "cell_type": "code",
   "execution_count": 55,
   "id": "7694c0c7-5ecc-4b4d-9e14-cef77ef3d099",
   "metadata": {},
   "outputs": [
    {
     "data": {
      "text/html": [
       "<div>\n",
       "<style scoped>\n",
       "    .dataframe tbody tr th:only-of-type {\n",
       "        vertical-align: middle;\n",
       "    }\n",
       "\n",
       "    .dataframe tbody tr th {\n",
       "        vertical-align: top;\n",
       "    }\n",
       "\n",
       "    .dataframe thead th {\n",
       "        text-align: right;\n",
       "    }\n",
       "</style>\n",
       "<table border=\"1\" class=\"dataframe\">\n",
       "  <thead>\n",
       "    <tr style=\"text-align: right;\">\n",
       "      <th></th>\n",
       "      <th>environment</th>\n",
       "      <th>success_rate</th>\n",
       "      <th>mean_reward</th>\n",
       "      <th>mean_cost</th>\n",
       "      <th>mean_confidence</th>\n",
       "    </tr>\n",
       "  </thead>\n",
       "  <tbody>\n",
       "    <tr>\n",
       "      <th>0</th>\n",
       "      <td>FetchPushBarrier</td>\n",
       "      <td>0.795</td>\n",
       "      <td>-12.659242</td>\n",
       "      <td>1.335643</td>\n",
       "      <td>0.724027</td>\n",
       "    </tr>\n",
       "    <tr>\n",
       "      <th>1</th>\n",
       "      <td>FetchPush</td>\n",
       "      <td>0.938</td>\n",
       "      <td>-3.245770</td>\n",
       "      <td>0.000000</td>\n",
       "      <td>0.791634</td>\n",
       "    </tr>\n",
       "    <tr>\n",
       "      <th>2</th>\n",
       "      <td>FetchReach</td>\n",
       "      <td>1.000</td>\n",
       "      <td>-0.596807</td>\n",
       "      <td>0.000000</td>\n",
       "      <td>0.908277</td>\n",
       "    </tr>\n",
       "  </tbody>\n",
       "</table>\n",
       "</div>"
      ],
      "text/plain": [
       "        environment  success_rate  mean_reward  mean_cost  mean_confidence\n",
       "0  FetchPushBarrier         0.795   -12.659242   1.335643         0.724027\n",
       "1         FetchPush         0.938    -3.245770   0.000000         0.791634\n",
       "2        FetchReach         1.000    -0.596807   0.000000         0.908277"
      ]
     },
     "execution_count": 55,
     "metadata": {},
     "output_type": "execute_result"
    }
   ],
   "source": [
    "teacher_confidence_results"
   ]
  },
  {
   "cell_type": "code",
   "execution_count": 56,
   "id": "7ece61a9-9dc5-4723-a069-8bcfe49ebf9f",
   "metadata": {},
   "outputs": [],
   "source": [
    "teacher_confidence_results.to_pickle('results/ensemble_confidence_table.pkl')"
   ]
  },
  {
   "cell_type": "code",
   "execution_count": 9,
   "id": "25a1fadb-9a33-4f27-be01-be8d457fb5aa",
   "metadata": {},
   "outputs": [
    {
     "data": {
      "text/html": [
       "<div>\n",
       "<style scoped>\n",
       "    .dataframe tbody tr th:only-of-type {\n",
       "        vertical-align: middle;\n",
       "    }\n",
       "\n",
       "    .dataframe tbody tr th {\n",
       "        vertical-align: top;\n",
       "    }\n",
       "\n",
       "    .dataframe thead th {\n",
       "        text-align: right;\n",
       "    }\n",
       "</style>\n",
       "<table border=\"1\" class=\"dataframe\">\n",
       "  <thead>\n",
       "    <tr style=\"text-align: right;\">\n",
       "      <th></th>\n",
       "      <th>environment</th>\n",
       "      <th>success_rate</th>\n",
       "      <th>mean_reward</th>\n",
       "      <th>mean_cost</th>\n",
       "      <th>mean_confidence</th>\n",
       "    </tr>\n",
       "  </thead>\n",
       "  <tbody>\n",
       "    <tr>\n",
       "      <th>0</th>\n",
       "      <td>FetchPushBarrier</td>\n",
       "      <td>0.795</td>\n",
       "      <td>-12.659242</td>\n",
       "      <td>1.335643</td>\n",
       "      <td>0.724027</td>\n",
       "    </tr>\n",
       "    <tr>\n",
       "      <th>1</th>\n",
       "      <td>FetchPush</td>\n",
       "      <td>0.938</td>\n",
       "      <td>-3.245770</td>\n",
       "      <td>0.000000</td>\n",
       "      <td>0.791634</td>\n",
       "    </tr>\n",
       "    <tr>\n",
       "      <th>2</th>\n",
       "      <td>FetchReach</td>\n",
       "      <td>1.000</td>\n",
       "      <td>-0.596807</td>\n",
       "      <td>0.000000</td>\n",
       "      <td>0.908277</td>\n",
       "    </tr>\n",
       "  </tbody>\n",
       "</table>\n",
       "</div>"
      ],
      "text/plain": [
       "        environment  success_rate  mean_reward  mean_cost  mean_confidence\n",
       "0  FetchPushBarrier         0.795   -12.659242   1.335643         0.724027\n",
       "1         FetchPush         0.938    -3.245770   0.000000         0.791634\n",
       "2        FetchReach         1.000    -0.596807   0.000000         0.908277"
      ]
     },
     "execution_count": 9,
     "metadata": {},
     "output_type": "execute_result"
    }
   ],
   "source": [
    "teacher_confidence_results = pd.read_pickle('results/ensemble_confidence_table.pkl')\n",
    "teacher_confidence_results"
   ]
  },
  {
   "cell_type": "code",
   "execution_count": 10,
   "id": "8ff3cd2e-e84a-432b-8c35-2cb0bd038695",
   "metadata": {},
   "outputs": [],
   "source": [
    "teacher_confidence_results= teacher_confidence_results.sort_values(by='success_rate', ascending=False)"
   ]
  },
  {
   "cell_type": "code",
   "execution_count": 60,
   "id": "ad737ca9-1728-49a9-8875-45bdb0fc64bc",
   "metadata": {},
   "outputs": [
    {
     "data": {
      "image/png": "[encoded data removed]",
      "text/plain": [
       "<Figure size 720x360 with 1 Axes>"
      ]
     },
     "metadata": {},
     "output_type": "display_data"
    }
   ],
   "source": [
    "fig = plt.figure(figsize=(10,5))\n",
    "fig.patch.set_facecolor('white')\n",
    "sns.set_context(\"notebook\")\n",
    "sns.set(style='whitegrid', font_scale=2)\n",
    "\n",
    "graph = sns.barplot(data=teacher_confidence_results, x='environment', y='mean_confidence', palette='colorblind')\n",
    "\n",
    "graph.set(xlabel='', ylabel='Mean Teacher Confidence')\n",
    "\n",
    "plt.savefig('results/ensemble_confidence_bar.png', bbox_inches='tight')"
   ]
  },
  {
   "cell_type": "code",
   "execution_count": 63,
   "id": "15cfffb2-009e-47a6-9303-c333d6a07f02",
   "metadata": {},
   "outputs": [
    {
     "data": {
      "text/html": [
       "<div>\n",
       "<style scoped>\n",
       "    .dataframe tbody tr th:only-of-type {\n",
       "        vertical-align: middle;\n",
       "    }\n",
       "\n",
       "    .dataframe tbody tr th {\n",
       "        vertical-align: top;\n",
       "    }\n",
       "\n",
       "    .dataframe thead th {\n",
       "        text-align: right;\n",
       "    }\n",
       "</style>\n",
       "<table border=\"1\" class=\"dataframe\">\n",
       "  <thead>\n",
       "    <tr style=\"text-align: right;\">\n",
       "      <th></th>\n",
       "      <th>environment</th>\n",
       "      <th>ensemble_id</th>\n",
       "      <th>success_rate</th>\n",
       "      <th>mean_reward</th>\n",
       "      <th>mean_cost</th>\n",
       "    </tr>\n",
       "  </thead>\n",
       "  <tbody>\n",
       "    <tr>\n",
       "      <th>2</th>\n",
       "      <td>FetchReach</td>\n",
       "      <td>2.0</td>\n",
       "      <td>1.000000</td>\n",
       "      <td>-0.551924</td>\n",
       "      <td>NaN</td>\n",
       "    </tr>\n",
       "    <tr>\n",
       "      <th>0</th>\n",
       "      <td>FetchPush</td>\n",
       "      <td>2.0</td>\n",
       "      <td>0.901333</td>\n",
       "      <td>-4.133502</td>\n",
       "      <td>NaN</td>\n",
       "    </tr>\n",
       "    <tr>\n",
       "      <th>1</th>\n",
       "      <td>FetchPushBarrier</td>\n",
       "      <td>2.0</td>\n",
       "      <td>0.761000</td>\n",
       "      <td>-14.083182</td>\n",
       "      <td>1.579896</td>\n",
       "    </tr>\n",
       "  </tbody>\n",
       "</table>\n",
       "</div>"
      ],
      "text/plain": [
       "        environment  ensemble_id  success_rate  mean_reward  mean_cost\n",
       "2        FetchReach          2.0      1.000000    -0.551924        NaN\n",
       "0         FetchPush          2.0      0.901333    -4.133502        NaN\n",
       "1  FetchPushBarrier          2.0      0.761000   -14.083182   1.579896"
      ]
     },
     "execution_count": 63,
     "metadata": {},
     "output_type": "execute_result"
    }
   ],
   "source": [
    "grouped"
   ]
  },
  {
   "cell_type": "code",
   "execution_count": 64,
   "id": "b184045b-a556-4dc8-8c29-c1e639efe7fa",
   "metadata": {},
   "outputs": [
    {
     "data": {
      "text/html": [
       "<div>\n",
       "<style scoped>\n",
       "    .dataframe tbody tr th:only-of-type {\n",
       "        vertical-align: middle;\n",
       "    }\n",
       "\n",
       "    .dataframe tbody tr th {\n",
       "        vertical-align: top;\n",
       "    }\n",
       "\n",
       "    .dataframe thead th {\n",
       "        text-align: right;\n",
       "    }\n",
       "</style>\n",
       "<table border=\"1\" class=\"dataframe\">\n",
       "  <thead>\n",
       "    <tr style=\"text-align: right;\">\n",
       "      <th></th>\n",
       "      <th>environment</th>\n",
       "      <th>success_rate</th>\n",
       "      <th>mean_reward</th>\n",
       "      <th>mean_cost</th>\n",
       "      <th>mean_confidence</th>\n",
       "    </tr>\n",
       "  </thead>\n",
       "  <tbody>\n",
       "    <tr>\n",
       "      <th>2</th>\n",
       "      <td>FetchReach</td>\n",
       "      <td>1.000</td>\n",
       "      <td>-0.596807</td>\n",
       "      <td>0.000000</td>\n",
       "      <td>0.908277</td>\n",
       "    </tr>\n",
       "    <tr>\n",
       "      <th>1</th>\n",
       "      <td>FetchPush</td>\n",
       "      <td>0.938</td>\n",
       "      <td>-3.245770</td>\n",
       "      <td>0.000000</td>\n",
       "      <td>0.791634</td>\n",
       "    </tr>\n",
       "    <tr>\n",
       "      <th>0</th>\n",
       "      <td>FetchPushBarrier</td>\n",
       "      <td>0.795</td>\n",
       "      <td>-12.659242</td>\n",
       "      <td>1.335643</td>\n",
       "      <td>0.724027</td>\n",
       "    </tr>\n",
       "  </tbody>\n",
       "</table>\n",
       "</div>"
      ],
      "text/plain": [
       "        environment  success_rate  mean_reward  mean_cost  mean_confidence\n",
       "2        FetchReach         1.000    -0.596807   0.000000         0.908277\n",
       "1         FetchPush         0.938    -3.245770   0.000000         0.791634\n",
       "0  FetchPushBarrier         0.795   -12.659242   1.335643         0.724027"
      ]
     },
     "execution_count": 64,
     "metadata": {},
     "output_type": "execute_result"
    }
   ],
   "source": [
    "teacher_confidence_results"
   ]
  },
  {
   "cell_type": "code",
   "execution_count": 11,
   "id": "92e3ed80-863b-4a93-a50a-593fad32f724",
   "metadata": {},
   "outputs": [
    {
     "data": {
      "text/html": [
       "<div>\n",
       "<style scoped>\n",
       "    .dataframe tbody tr th:only-of-type {\n",
       "        vertical-align: middle;\n",
       "    }\n",
       "\n",
       "    .dataframe tbody tr th {\n",
       "        vertical-align: top;\n",
       "    }\n",
       "\n",
       "    .dataframe thead th {\n",
       "        text-align: right;\n",
       "    }\n",
       "</style>\n",
       "<table border=\"1\" class=\"dataframe\">\n",
       "  <thead>\n",
       "    <tr style=\"text-align: right;\">\n",
       "      <th></th>\n",
       "      <th>environment</th>\n",
       "      <th>ensemble_id</th>\n",
       "      <th>success_rate</th>\n",
       "      <th>mean_reward</th>\n",
       "      <th>mean_cost</th>\n",
       "      <th>mean_confidence</th>\n",
       "    </tr>\n",
       "  </thead>\n",
       "  <tbody>\n",
       "    <tr>\n",
       "      <th>0</th>\n",
       "      <td>FetchReach</td>\n",
       "      <td>2.0</td>\n",
       "      <td>1.000000</td>\n",
       "      <td>-0.551924</td>\n",
       "      <td>NaN</td>\n",
       "      <td>0.908277</td>\n",
       "    </tr>\n",
       "    <tr>\n",
       "      <th>1</th>\n",
       "      <td>FetchPush</td>\n",
       "      <td>2.0</td>\n",
       "      <td>0.901333</td>\n",
       "      <td>-4.133502</td>\n",
       "      <td>NaN</td>\n",
       "      <td>0.791634</td>\n",
       "    </tr>\n",
       "    <tr>\n",
       "      <th>2</th>\n",
       "      <td>FetchPushBarrier</td>\n",
       "      <td>2.0</td>\n",
       "      <td>0.761000</td>\n",
       "      <td>-14.083182</td>\n",
       "      <td>1.579896</td>\n",
       "      <td>0.724027</td>\n",
       "    </tr>\n",
       "  </tbody>\n",
       "</table>\n",
       "</div>"
      ],
      "text/plain": [
       "        environment  ensemble_id  success_rate  mean_reward  mean_cost  \\\n",
       "0        FetchReach          2.0      1.000000    -0.551924        NaN   \n",
       "1         FetchPush          2.0      0.901333    -4.133502        NaN   \n",
       "2  FetchPushBarrier          2.0      0.761000   -14.083182   1.579896   \n",
       "\n",
       "   mean_confidence  \n",
       "0         0.908277  \n",
       "1         0.791634  \n",
       "2         0.724027  "
      ]
     },
     "execution_count": 11,
     "metadata": {},
     "output_type": "execute_result"
    }
   ],
   "source": [
    "combined = grouped.merge(teacher_confidence_results[['environment', 'mean_confidence']], on='environment')\n",
    "combined"
   ]
  },
  {
   "cell_type": "code",
   "execution_count": 12,
   "id": "b51a9894-49c1-442a-881e-4ef514917a46",
   "metadata": {},
   "outputs": [
    {
     "data": {
      "text/html": [
       "<div>\n",
       "<style scoped>\n",
       "    .dataframe tbody tr th:only-of-type {\n",
       "        vertical-align: middle;\n",
       "    }\n",
       "\n",
       "    .dataframe tbody tr th {\n",
       "        vertical-align: top;\n",
       "    }\n",
       "\n",
       "    .dataframe thead th {\n",
       "        text-align: right;\n",
       "    }\n",
       "</style>\n",
       "<table border=\"1\" class=\"dataframe\">\n",
       "  <thead>\n",
       "    <tr style=\"text-align: right;\">\n",
       "      <th></th>\n",
       "      <th>environment</th>\n",
       "      <th>variable</th>\n",
       "      <th>value</th>\n",
       "    </tr>\n",
       "  </thead>\n",
       "  <tbody>\n",
       "    <tr>\n",
       "      <th>0</th>\n",
       "      <td>FetchReach</td>\n",
       "      <td>success_rate</td>\n",
       "      <td>1.000000</td>\n",
       "    </tr>\n",
       "    <tr>\n",
       "      <th>1</th>\n",
       "      <td>FetchPush</td>\n",
       "      <td>success_rate</td>\n",
       "      <td>0.901333</td>\n",
       "    </tr>\n",
       "    <tr>\n",
       "      <th>2</th>\n",
       "      <td>FetchPushBarrier</td>\n",
       "      <td>success_rate</td>\n",
       "      <td>0.761000</td>\n",
       "    </tr>\n",
       "    <tr>\n",
       "      <th>3</th>\n",
       "      <td>FetchReach</td>\n",
       "      <td>mean_confidence</td>\n",
       "      <td>0.908277</td>\n",
       "    </tr>\n",
       "    <tr>\n",
       "      <th>4</th>\n",
       "      <td>FetchPush</td>\n",
       "      <td>mean_confidence</td>\n",
       "      <td>0.791634</td>\n",
       "    </tr>\n",
       "    <tr>\n",
       "      <th>5</th>\n",
       "      <td>FetchPushBarrier</td>\n",
       "      <td>mean_confidence</td>\n",
       "      <td>0.724027</td>\n",
       "    </tr>\n",
       "  </tbody>\n",
       "</table>\n",
       "</div>"
      ],
      "text/plain": [
       "        environment         variable     value\n",
       "0        FetchReach     success_rate  1.000000\n",
       "1         FetchPush     success_rate  0.901333\n",
       "2  FetchPushBarrier     success_rate  0.761000\n",
       "3        FetchReach  mean_confidence  0.908277\n",
       "4         FetchPush  mean_confidence  0.791634\n",
       "5  FetchPushBarrier  mean_confidence  0.724027"
      ]
     },
     "execution_count": 12,
     "metadata": {},
     "output_type": "execute_result"
    }
   ],
   "source": [
    "melted = combined.melt(id_vars=['environment'], value_vars=['success_rate', 'mean_confidence'])\n",
    "melted"
   ]
  },
  {
   "cell_type": "code",
   "execution_count": 18,
   "id": "4f20ceee-da34-47cc-b851-3c9a7c15970e",
   "metadata": {},
   "outputs": [
    {
     "data": {
      "image/png": "[encoded data removed]",
      "text/plain": [
       "<Figure size 720x360 with 1 Axes>"
      ]
     },
     "metadata": {},
     "output_type": "display_data"
    }
   ],
   "source": [
    "fig = plt.figure(figsize=(10,5))\n",
    "fig.patch.set_facecolor('white')\n",
    "sns.set_context(\"notebook\")\n",
    "sns.set(style='whitegrid')\n",
    "\n",
    "graph = sns.barplot(data=melted, x='environment', y='value', hue='variable', palette='colorblind')\n",
    "\n",
    "h, l = graph.get_legend_handles_labels()\n",
    "graph.set(xlabel='', ylabel='')\n",
    "graph.legend([],[], frameon=False)\n",
    "\n",
    "fig.legend(loc='lower center', \n",
    "           bbox_to_anchor=(0.5, -0.01), \n",
    "           fancybox=True, \n",
    "           shadow=True, \n",
    "           ncol=2, \n",
    "           #prop={'size': 19},\n",
    "           labels=['Mean Teacher Success Rate', 'Mean Teacher Confidence'],\n",
    "           handles=h)\n",
    "plt.savefig('results/ensemble_combined_bar.png', bbox_inches='tight')"
   ]
  },
  {
   "cell_type": "code",
   "execution_count": null,
   "id": "a95f44ef-232c-4357-8e00-2ee03d20f01c",
   "metadata": {},
   "outputs": [],
   "source": []
  }
 ],
 "metadata": {
  "kernelspec": {
   "display_name": "Python 3 (ipykernel)",
   "language": "python",
   "name": "python3"
  },
  "language_info": {
   "codemirror_mode": {
    "name": "ipython",
    "version": 3
   },
   "file_extension": ".py",
   "mimetype": "text/x-python",
   "name": "python",
   "nbconvert_exporter": "python",
   "pygments_lexer": "ipython3",
   "version": "3.8.10"
  }
 },
 "nbformat": 4,
 "nbformat_minor": 5
}
